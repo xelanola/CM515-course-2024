{
  "nbformat": 4,
  "nbformat_minor": 0,
  "metadata": {
    "colab": {
      "provenance": []
    },
    "kernelspec": {
      "name": "python3",
      "display_name": "Python 3"
    },
    "language_info": {
      "name": "python"
    }
  },
  "cells": [
    {
      "cell_type": "code",
      "source": [
        "!git clone https://github.com/Colorado-State-University-CMB/CM515-course-2024.git\n",
        "\n",
        "# this is a good resource for if you want to continue learning https://bebi103a.github.io/lessons/00/index.html\n",
        "# some of the practice questions are from here. There are many more and I would encourage you to try them out:\n",
        "# https://colab.research.google.com/github/ryanorsinger/101-exercises/blob/main/101-exercises.ipynb#scrollTo=5q2GcoPeVpyE"
      ],
      "metadata": {
        "id": "XIY5JcORGF4S",
        "colab": {
          "base_uri": "https://localhost:8080/"
        },
        "outputId": "adb7f387-9cc9-4b07-e27d-c232873ea212"
      },
      "execution_count": null,
      "outputs": [
        {
          "output_type": "stream",
          "name": "stdout",
          "text": [
            "Cloning into 'CM515-course-2024'...\n",
            "remote: Enumerating objects: 983, done.\u001b[K\n",
            "remote: Counting objects: 100% (411/411), done.\u001b[K\n",
            "remote: Compressing objects: 100% (209/209), done.\u001b[K\n",
            "remote: Total 983 (delta 227), reused 352 (delta 197), pack-reused 572\u001b[K\n",
            "Receiving objects: 100% (983/983), 222.40 MiB | 30.28 MiB/s, done.\n",
            "Resolving deltas: 100% (512/512), done.\n",
            "Updating files: 100% (163/163), done.\n"
          ]
        }
      ]
    },
    {
      "cell_type": "markdown",
      "source": [
        "**Introduction to Colab and Jupyther Notebooks**\n",
        "\n",
        "While RStudio is pretty standard for R, python has a lot of different development environments that you can choose from. Here we will use Google Colab because all of you already have access to it through your student account. Keep in mind that when working in this notebook that you are not running the code using your local computer. This is being run on a server maintained by google. You by default can do this for free, but you can increase the resources you are using if you pay money. This will not be necessary in this class and in most situations you will find yourself in.\n",
        "\\\n",
        "\\\n",
        "Jupyter notebooks are my preferred development environment, but there are many others including:\\\n",
        "Spyder: https://www.spyder-ide.org/ \\\n",
        "PyCharm: https://www.jetbrains.com/pycharm/ \\\n",
        "VS Studio: https://code.visualstudio.com/ \\\n",
        "And technically with RStudio, but this is not conventional\n",
        "\\\n",
        "\\\n",
        "I do not really work with these often. The main thing that differentiates them from my experience is the formatting of the environment. Some allow you to code in chunks, some keep track of variables for you, etc.\n",
        "\\\n",
        "\\\n",
        "Jupter notebooks can be accessed by: \\\n",
        "Downloadng Jupyter Directly: https://jupyter.org/ \\\n",
        "Using Anaconda: https://www.anaconda.com/ \\\n",
        "Or in colab like we are here, althought google colab has some slight differences from a typical jupyter notebook. \\\n",
        "\\\n",
        "If you look at the left side of the screen you can see some icons that are not typically in Jupyter notebooks. The {*X*} icon on the left allows you to look at all the objects that are in , similar to the top right corner of RStudio. There is also a folder icon that allows you to explore the file structure of the virtual machine we are using. Notice that the machine you are working on is pretty much empty except for a file filled with some example data. Finally, you can run code chunks by hovering over the number on the left and pressing on it when it turns into a play arrow. In a typical notebook you eihter have to click on the block and type command + enter (mac) or control + enter (windows). These shortcuts work here too. To run the entire chunk of code, select \"Runtime\" in the top bar of the webpage and select \"Run All\". From here you can also choose to \"Run before\" and \"Run After\", simlar to RStudio. The insert tab allows you to add new blocks for both code and text. You can use the edit tab to several things, but most importantly to delete cells, copy and paste cells, or cut and paste cells.\n",
        "\n",
        "\n",
        "\\\n",
        "Before we dive into using python I just wanted to highlight that you can also use Jupyter Notebooks or Colab to run code on the command line using \"!\". I do not think this works in base python.\n",
        "\n"
      ],
      "metadata": {
        "id": "HdBET6h-vrhE"
      }
    },
    {
      "cell_type": "code",
      "source": [
        "print('_______________')\n",
        "print('DISK INFORMATION')\n",
        "print('_______________')\n",
        "!df -h\n",
        "\n",
        "# CPU info\n",
        "print('_______________')\n",
        "print('CPU INFORMATION')\n",
        "print('_______________')\n",
        "!cat /proc/cpuinfo"
      ],
      "metadata": {
        "colab": {
          "base_uri": "https://localhost:8080/"
        },
        "id": "cbsNQ3Oqeyct",
        "outputId": "e6022869-cc8b-4eb7-f8f4-294c3278b70c"
      },
      "execution_count": null,
      "outputs": [
        {
          "output_type": "stream",
          "name": "stdout",
          "text": [
            "_______________\n",
            "DISK INFORMATION\n",
            "_______________\n",
            "Filesystem      Size  Used Avail Use% Mounted on\n",
            "overlay         108G   27G   82G  25% /\n",
            "tmpfs            64M     0   64M   0% /dev\n",
            "shm             5.8G     0  5.8G   0% /dev/shm\n",
            "/dev/root       2.0G  1.1G  849M  57% /usr/sbin/docker-init\n",
            "tmpfs           6.4G 1016K  6.4G   1% /var/colab\n",
            "/dev/sda1        70G   43G   27G  62% /kaggle/input\n",
            "tmpfs           6.4G     0  6.4G   0% /proc/acpi\n",
            "tmpfs           6.4G     0  6.4G   0% /proc/scsi\n",
            "tmpfs           6.4G     0  6.4G   0% /sys/firmware\n",
            "drive           108G   31G   78G  29% /content/drive\n",
            "_______________\n",
            "CPU INFORMATION\n",
            "_______________\n",
            "processor\t: 0\n",
            "vendor_id\t: GenuineIntel\n",
            "cpu family\t: 6\n",
            "model\t\t: 79\n",
            "model name\t: Intel(R) Xeon(R) CPU @ 2.20GHz\n",
            "stepping\t: 0\n",
            "microcode\t: 0xffffffff\n",
            "cpu MHz\t\t: 2200.150\n",
            "cache size\t: 56320 KB\n",
            "physical id\t: 0\n",
            "siblings\t: 2\n",
            "core id\t\t: 0\n",
            "cpu cores\t: 1\n",
            "apicid\t\t: 0\n",
            "initial apicid\t: 0\n",
            "fpu\t\t: yes\n",
            "fpu_exception\t: yes\n",
            "cpuid level\t: 13\n",
            "wp\t\t: yes\n",
            "flags\t\t: fpu vme de pse tsc msr pae mce cx8 apic sep mtrr pge mca cmov pat pse36 clflush mmx fxsr sse sse2 ss ht syscall nx pdpe1gb rdtscp lm constant_tsc rep_good nopl xtopology nonstop_tsc cpuid tsc_known_freq pni pclmulqdq ssse3 fma cx16 pcid sse4_1 sse4_2 x2apic movbe popcnt aes xsave avx f16c rdrand hypervisor lahf_lm abm 3dnowprefetch invpcid_single ssbd ibrs ibpb stibp fsgsbase tsc_adjust bmi1 hle avx2 smep bmi2 erms invpcid rtm rdseed adx smap xsaveopt arat md_clear arch_capabilities\n",
            "bugs\t\t: cpu_meltdown spectre_v1 spectre_v2 spec_store_bypass l1tf mds swapgs taa mmio_stale_data retbleed\n",
            "bogomips\t: 4400.30\n",
            "clflush size\t: 64\n",
            "cache_alignment\t: 64\n",
            "address sizes\t: 46 bits physical, 48 bits virtual\n",
            "power management:\n",
            "\n",
            "processor\t: 1\n",
            "vendor_id\t: GenuineIntel\n",
            "cpu family\t: 6\n",
            "model\t\t: 79\n",
            "model name\t: Intel(R) Xeon(R) CPU @ 2.20GHz\n",
            "stepping\t: 0\n",
            "microcode\t: 0xffffffff\n",
            "cpu MHz\t\t: 2200.150\n",
            "cache size\t: 56320 KB\n",
            "physical id\t: 0\n",
            "siblings\t: 2\n",
            "core id\t\t: 0\n",
            "cpu cores\t: 1\n",
            "apicid\t\t: 1\n",
            "initial apicid\t: 1\n",
            "fpu\t\t: yes\n",
            "fpu_exception\t: yes\n",
            "cpuid level\t: 13\n",
            "wp\t\t: yes\n",
            "flags\t\t: fpu vme de pse tsc msr pae mce cx8 apic sep mtrr pge mca cmov pat pse36 clflush mmx fxsr sse sse2 ss ht syscall nx pdpe1gb rdtscp lm constant_tsc rep_good nopl xtopology nonstop_tsc cpuid tsc_known_freq pni pclmulqdq ssse3 fma cx16 pcid sse4_1 sse4_2 x2apic movbe popcnt aes xsave avx f16c rdrand hypervisor lahf_lm abm 3dnowprefetch invpcid_single ssbd ibrs ibpb stibp fsgsbase tsc_adjust bmi1 hle avx2 smep bmi2 erms invpcid rtm rdseed adx smap xsaveopt arat md_clear arch_capabilities\n",
            "bugs\t\t: cpu_meltdown spectre_v1 spectre_v2 spec_store_bypass l1tf mds swapgs taa mmio_stale_data retbleed\n",
            "bogomips\t: 4400.30\n",
            "clflush size\t: 64\n",
            "cache_alignment\t: 64\n",
            "address sizes\t: 46 bits physical, 48 bits virtual\n",
            "power management:\n",
            "\n"
          ]
        }
      ]
    },
    {
      "cell_type": "code",
      "execution_count": null,
      "metadata": {
        "colab": {
          "base_uri": "https://localhost:8080/"
        },
        "id": "nr1AuJ3UvDLF",
        "outputId": "aec4a7ab-17c6-43be-a3e1-33de7b4585f4"
      },
      "outputs": [
        {
          "output_type": "stream",
          "name": "stdout",
          "text": [
            "hello world\n"
          ]
        }
      ],
      "source": [
        "# prompts the command line to repeat the words \"hello world\" back to you\n",
        "!echo \"hello world\"\n"
      ]
    },
    {
      "cell_type": "code",
      "source": [
        "# shows current directory path\n",
        "!pwd\n"
      ],
      "metadata": {
        "colab": {
          "base_uri": "https://localhost:8080/"
        },
        "id": "ilayg38Owj1C",
        "outputId": "b4ef46ce-e2a0-41f4-a87f-1c2449218bdb"
      },
      "execution_count": null,
      "outputs": [
        {
          "output_type": "stream",
          "name": "stdout",
          "text": [
            "/content\n"
          ]
        }
      ]
    },
    {
      "cell_type": "code",
      "source": [
        "# shows contents of the current directory\n",
        "!ls\n"
      ],
      "metadata": {
        "colab": {
          "base_uri": "https://localhost:8080/"
        },
        "id": "-UGUsbDIIeCJ",
        "outputId": "c6ff22dc-da5a-4a06-c1e4-881458c78df6"
      },
      "execution_count": null,
      "outputs": [
        {
          "output_type": "stream",
          "name": "stdout",
          "text": [
            "drive  sample_data\n"
          ]
        }
      ]
    },
    {
      "cell_type": "markdown",
      "source": [
        "**Packages/Libraries** \\\n",
        "\\\n",
        "Similar to R, python has a variety of  packages. However they differ in the fact that you have to install them using the command line which I may have you do tomorrow.\n",
        "\n",
        "In colab, there are several pre-downloaded packages that are very commonly used. Of these are:\n",
        "\n",
        "NumPy - a package dedicated for using arrays. Very commonly used in data anlaysis, especially when you need it to be fast. https://numpy.org/ \\\n",
        "\\\n",
        "SciPy - a package that has a lot of statistical tools available. Also very commonly used for fitting models and performing optimizations. https://scipy.org/ \\\n",
        "\\\n",
        "Pandas - Package for working with dataframes. https://pandas.pydata.org/ \\\n",
        "\\\n",
        "Tensorflow and Pytorch - machine learning packages. https://www.tensorflow.org/ and https://pytorch.org/\n",
        "\n",
        "You can load in some of these libraries by running the code block below. The general import command is: \\\n",
        "\\\n",
        "import package_name_here \\\n",
        "\\\n",
        "However you will notice that some of these are formated with an additional \"as\" statement like so: \\\n",
        "\\\n",
        "import numpy as np \\\n",
        "\\\n",
        "This is because when using a command in from a package you must refer to the package name when calling it. So, since typing out some of the names is really long people have decided on some standard abbreviations for the package names. You can in theory use whatever you want, but most of these commonly used packages have names that are convention at this point.\n",
        "\n"
      ],
      "metadata": {
        "id": "YjrwFcpJUeg_"
      }
    },
    {
      "cell_type": "code",
      "source": [
        "import numpy as np\n",
        "import pandas as pd\n",
        "import matplotlib.pyplot as plt\n",
        "import random\n"
      ],
      "metadata": {
        "id": "tvumDrBlotly"
      },
      "execution_count": null,
      "outputs": []
    },
    {
      "cell_type": "markdown",
      "source": [
        "**Basic Object Types**\n",
        "\n",
        "There are some fundamental types of objects in python that are intrinsic that I will go over here briefly. If you are ever unsure of what type an object has, you can use the type() function to figure it out.\n",
        "\n",
        "The four most basic ones are booleans, integers, strings, and floats.\n",
        "\n",
        "\\\n",
        "Integer - Numbers, but without decimals. Examples:\\\n",
        "x = 1 \\\n",
        "x = 2 \\\n",
        "x = 3 \\\n",
        "\\\n",
        "Floats - Numbers, but with decimals. Examples: \\\n",
        "x = 1.0 \\\n",
        "x = 2.5 \\\n",
        "x = 2/3 \\\n",
        "\\\n",
        "Strings - Words and characters. Can be demarked with double quotation marks (\" \") or single quotation marks (' '). Examples: \\\n",
        "x = \"1\"\\\n",
        "x = \"Hello world\" \\\n",
        "x = '1.00001' \\\n",
        "\n",
        "\\\n",
        "Booleans - Binary variables. True or False. 0 = False and 1 = True. Examples: \\\n",
        "x = True\\\n",
        "x = bool(0)\\\n",
        "x = bool(1) \\\n",
        "\n",
        "\\\n",
        "\n",
        "You can also convert between these types using the functions int(), str(), and float(). Althought, there are some obvious limitations. ie Pretty much anything can be converted into a string (although it can be pretty ugly), but not every string can be converted into a float or an integer (unless you use some special commands to convert letters and symbols into numeric values).\n",
        "\n",
        "\n",
        "A general rule of thumb is that each type has a strict set of character types it can take in:\n",
        "\n",
        "strings: can take in any type of character\n",
        "\n",
        "Floats: can take in any numeric type of data\n",
        "\n",
        "Integers: can take in any rounded number (floats are rounded if you use the int() function to convert them into an integer.\n",
        "\n",
        "Booleans: Can only be a 0 or 1 or the key words True or False.\n",
        "\n",
        "\n"
      ],
      "metadata": {
        "id": "pbIyq-45YDtr"
      }
    },
    {
      "cell_type": "code",
      "source": [
        "int_example = 1\n",
        "print(type(int_example)) # the type function is like the class function in R\n",
        "print(int_example)"
      ],
      "metadata": {
        "colab": {
          "base_uri": "https://localhost:8080/"
        },
        "id": "bggtdnsQXC6f",
        "outputId": "e6a23659-0679-4f9c-aa76-8412c8263c5d"
      },
      "execution_count": null,
      "outputs": [
        {
          "output_type": "stream",
          "name": "stdout",
          "text": [
            "<class 'int'>\n",
            "1\n"
          ]
        }
      ]
    },
    {
      "cell_type": "code",
      "source": [
        "int_example = 1\n",
        "type(int_example)\n",
        "int_example"
      ],
      "metadata": {
        "colab": {
          "base_uri": "https://localhost:8080/"
        },
        "id": "_HsvTVoyavdt",
        "outputId": "f76d8efe-816f-419e-91b2-e14899c4efab"
      },
      "execution_count": null,
      "outputs": [
        {
          "output_type": "execute_result",
          "data": {
            "text/plain": [
              "1"
            ]
          },
          "metadata": {},
          "execution_count": 1
        }
      ]
    },
    {
      "cell_type": "code",
      "source": [
        "float_example = 1.0\n",
        "print(type(float_example))\n",
        "print(float_example)"
      ],
      "metadata": {
        "colab": {
          "base_uri": "https://localhost:8080/"
        },
        "id": "bqJyeMqO7nNN",
        "outputId": "5b0010a3-356c-4f2e-8ee2-a6d8da4495d2"
      },
      "execution_count": null,
      "outputs": [
        {
          "output_type": "stream",
          "name": "stdout",
          "text": [
            "<class 'float'>\n",
            "1.0\n"
          ]
        }
      ]
    },
    {
      "cell_type": "code",
      "source": [
        "float_example = 4.5e-7 # you can also use scientific notation using e\n",
        "print(type(float_example))\n",
        "print(float_example)"
      ],
      "metadata": {
        "colab": {
          "base_uri": "https://localhost:8080/"
        },
        "id": "0HUzqetWKWgn",
        "outputId": "6fb5630b-9045-4820-9c5b-fef2d41320ab"
      },
      "execution_count": null,
      "outputs": [
        {
          "output_type": "stream",
          "name": "stdout",
          "text": [
            "<class 'float'>\n",
            "4.5e-07\n"
          ]
        }
      ]
    },
    {
      "cell_type": "code",
      "source": [
        "str_example = \"1.0\"\n",
        "print(type(str_example))\n",
        "print(str_example)"
      ],
      "metadata": {
        "colab": {
          "base_uri": "https://localhost:8080/"
        },
        "id": "W3eFeZoh7nO6",
        "outputId": "3771dfea-a4dc-449f-b591-012a3339e1c2"
      },
      "execution_count": null,
      "outputs": [
        {
          "output_type": "stream",
          "name": "stdout",
          "text": [
            "<class 'str'>\n",
            "1.0\n"
          ]
        }
      ]
    },
    {
      "cell_type": "code",
      "source": [
        "str_example = '1.0' # you can use either single or double quotes to denote a string\n",
        "print(type(str_example))\n",
        "print(str_example)"
      ],
      "metadata": {
        "id": "v6LrYp1XKk4F"
      },
      "execution_count": null,
      "outputs": []
    },
    {
      "cell_type": "code",
      "source": [
        "str2_example = \"Example of using single quotations in a string: 'hi'\"\n",
        "print(type(str_example))\n",
        "print(str_example)"
      ],
      "metadata": {
        "colab": {
          "base_uri": "https://localhost:8080/"
        },
        "id": "LsKaEYuE7nQ_",
        "outputId": "3348f5bc-871e-483b-c316-c2a1c5e583ae"
      },
      "execution_count": null,
      "outputs": [
        {
          "output_type": "stream",
          "name": "stdout",
          "text": [
            "<class 'str'>\n",
            "Example of using single quotations in a string: 'hi' \n"
          ]
        }
      ]
    },
    {
      "cell_type": "code",
      "source": [
        "str_example = \"\"\"1\n",
        "2\n",
        "3\n",
        "4\n",
        "5\n",
        "\"\"\" # you can also do multi line strings using 3 quotations in a row\n",
        "print(type(str_example))\n",
        "print(str_example)"
      ],
      "metadata": {
        "colab": {
          "base_uri": "https://localhost:8080/"
        },
        "id": "JIcl1kTNQQPS",
        "outputId": "65ab9c48-b9dd-42f3-d7c0-dfde812a4c1a"
      },
      "execution_count": null,
      "outputs": [
        {
          "output_type": "stream",
          "name": "stdout",
          "text": [
            "<class 'str'>\n",
            "1\n",
            "2\n",
            "3\n",
            "4\n",
            "5\n",
            "\n"
          ]
        }
      ]
    },
    {
      "cell_type": "code",
      "source": [
        "str_example = \"1\\n2\\n3\\n4\\n5\" # however, be aware that \\n is another way of encoding a line separation.\n",
        "print(type(str_example))\n",
        "print(str_example)\n",
        "\"1\\n2\\n3\\n4\\n5\" # also, be aware that there is a difference between the print function outputs and raw outputs"
      ],
      "metadata": {
        "colab": {
          "base_uri": "https://localhost:8080/",
          "height": 143
        },
        "id": "prjruSR2QgEQ",
        "outputId": "f93b4b08-3f36-43bf-a498-30b2ae28eb40"
      },
      "execution_count": null,
      "outputs": [
        {
          "output_type": "stream",
          "name": "stdout",
          "text": [
            "<class 'str'>\n",
            "1\n",
            "2\n",
            "3\n",
            "4\n",
            "5\n"
          ]
        },
        {
          "output_type": "execute_result",
          "data": {
            "text/plain": [
              "'1\\n2\\n3\\n4\\n5'"
            ],
            "application/vnd.google.colaboratory.intrinsic+json": {
              "type": "string"
            }
          },
          "metadata": {},
          "execution_count": 32
        }
      ]
    },
    {
      "cell_type": "code",
      "source": [
        "# formating strings to incorporate variables just got much easier\n",
        "name = \"name\"\n",
        "f\"Hi my name is {name}\""
      ],
      "metadata": {
        "colab": {
          "base_uri": "https://localhost:8080/",
          "height": 35
        },
        "id": "H09JGYSfeXzd",
        "outputId": "00d83a17-2a09-4919-89fe-8404b77c5e69"
      },
      "execution_count": null,
      "outputs": [
        {
          "output_type": "execute_result",
          "data": {
            "text/plain": [
              "'Hi my name is name'"
            ],
            "application/vnd.google.colaboratory.intrinsic+json": {
              "type": "string"
            }
          },
          "metadata": {},
          "execution_count": 17
        }
      ]
    },
    {
      "cell_type": "code",
      "source": [
        "x = True\n",
        "print(type(x))\n",
        "x = 1\n",
        "print(type(x))\n",
        "x = bool(x)\n",
        "print(type(x))\n",
        "x = False\n",
        "print(type(x))"
      ],
      "metadata": {
        "colab": {
          "base_uri": "https://localhost:8080/"
        },
        "id": "d1zgncpecjWw",
        "outputId": "49997b3a-5905-4d02-e6c8-b409b828e928"
      },
      "execution_count": null,
      "outputs": [
        {
          "output_type": "stream",
          "name": "stdout",
          "text": [
            "<class 'bool'>\n",
            "<class 'int'>\n",
            "<class 'bool'>\n"
          ]
        }
      ]
    },
    {
      "cell_type": "code",
      "source": [
        "## assert basically tests if a condition is true\n",
        "# assign an integer to the variable of x\n",
        "\n",
        "assert x == int, \"If you see a Name Error, be sure to create the variable and assign it a value.\"\n",
        "print(\"Exercise 1 is correct.\")"
      ],
      "metadata": {
        "id": "m7krAz8mWN2a"
      },
      "execution_count": null,
      "outputs": []
    },
    {
      "cell_type": "code",
      "source": [
        "# convert x into a float\n",
        "\n",
        "assert x == float\n",
        "print(\"Exercise 2 is correct.\")"
      ],
      "metadata": {
        "id": "7-vOnAn5WdY4"
      },
      "execution_count": null,
      "outputs": []
    },
    {
      "cell_type": "code",
      "source": [
        "# convert x into a string\n",
        "\n",
        "assert x == str\n",
        "print(\"Exercise 2 is correct.\")"
      ],
      "metadata": {
        "id": "_sePRTCjXbQi"
      },
      "execution_count": null,
      "outputs": []
    },
    {
      "cell_type": "code",
      "source": [
        "# what kind of obect does input return? try it out a few different ways with numbers and characters\n",
        "x = input()\n",
        "\n"
      ],
      "metadata": {
        "colab": {
          "base_uri": "https://localhost:8080/"
        },
        "id": "sXETryBgWiQ1",
        "outputId": "00b56ee6-ac69-43a8-a9a2-8ea47cbf5ba3"
      },
      "execution_count": 6,
      "outputs": [
        {
          "name": "stdout",
          "output_type": "stream",
          "text": [
            "8\n"
          ]
        }
      ]
    },
    {
      "cell_type": "markdown",
      "source": [
        "**Arithmetic Operators**\n",
        "\n",
        "Python has built in operators that allow you to do things with variables like add or subtract them. Arithmetic operators refers to the following operators:\n",
        "\n",
        "addition +\n",
        "\n",
        "subtraction -\n",
        "\n",
        "multiplication *\n",
        "\n",
        "division /\n",
        "\n",
        "raise to power **\n",
        "\n",
        "floored division //\n",
        "\n",
        "modulo %\n",
        "\n",
        "When using these functions with two variables of different types, you will most commonly get an error, but if not there is again a priority to the typing. If a string is involved the output will be a string. If you use a float and an integer together the output will be a float. If you use a boolean, the output will be whatever type the other variable is. Division always returns a float.\n",
        "\n",
        "Evaluation of operators follows PEMDAS, so it is usually considered best practice to use parentheses to explicitly define the order in which you want an operation to occur, but just so you are aware, the order of operations goes:\n",
        "\n",
        "First - **\n",
        "\n",
        "Second - /, //, %, *\n",
        "\n",
        "Third - +, -\n"
      ],
      "metadata": {
        "id": "1anop0shLxdZ"
      }
    },
    {
      "cell_type": "code",
      "source": [
        "# Addition\n",
        "print(2 + 2)\n",
        "print(type(2 + 2))"
      ],
      "metadata": {
        "colab": {
          "base_uri": "https://localhost:8080/"
        },
        "id": "qwKdNW68OBas",
        "outputId": "6deb3911-df9f-4da5-d276-332c060b7ff1"
      },
      "execution_count": null,
      "outputs": [
        {
          "output_type": "stream",
          "name": "stdout",
          "text": [
            "4\n",
            "<class 'int'>\n"
          ]
        }
      ]
    },
    {
      "cell_type": "code",
      "source": [
        "print(2 + 2.0)\n",
        "print(type(2 + 2.0))"
      ],
      "metadata": {
        "colab": {
          "base_uri": "https://localhost:8080/"
        },
        "id": "4hio0cHrOqxn",
        "outputId": "26812f55-d361-4a78-c8f7-d5a1b075e37d"
      },
      "execution_count": null,
      "outputs": [
        {
          "output_type": "stream",
          "name": "stdout",
          "text": [
            "4.0\n",
            "<class 'float'>\n"
          ]
        }
      ]
    },
    {
      "cell_type": "code",
      "source": [
        "# You can add strings too\n",
        "print(\"2\" + \"2.0\")\n",
        "print(type(\"2\" + \"2.0\"))"
      ],
      "metadata": {
        "colab": {
          "base_uri": "https://localhost:8080/"
        },
        "id": "RmdKZeKUOCzc",
        "outputId": "92a82ca5-77e9-4f63-ac3f-d1535f14e434"
      },
      "execution_count": null,
      "outputs": [
        {
          "output_type": "stream",
          "name": "stdout",
          "text": [
            "22.0\n",
            "<class 'str'>\n"
          ]
        }
      ]
    },
    {
      "cell_type": "code",
      "source": [
        "# but not with other variable types\n",
        "\"2\" + 2"
      ],
      "metadata": {
        "colab": {
          "base_uri": "https://localhost:8080/",
          "height": 144
        },
        "id": "IegJcMbGO6YQ",
        "outputId": "53202221-0c7d-48b6-9cf4-a95b68b57833"
      },
      "execution_count": null,
      "outputs": [
        {
          "output_type": "error",
          "ename": "TypeError",
          "evalue": "can only concatenate str (not \"int\") to str",
          "traceback": [
            "\u001b[0;31m---------------------------------------------------------------------------\u001b[0m",
            "\u001b[0;31mTypeError\u001b[0m                                 Traceback (most recent call last)",
            "\u001b[0;32m<ipython-input-19-192a1d19ca7a>\u001b[0m in \u001b[0;36m<cell line: 1>\u001b[0;34m()\u001b[0m\n\u001b[0;32m----> 1\u001b[0;31m \u001b[0;34m\"2\"\u001b[0m \u001b[0;34m+\u001b[0m \u001b[0;36m2\u001b[0m\u001b[0;34m\u001b[0m\u001b[0;34m\u001b[0m\u001b[0m\n\u001b[0m",
            "\u001b[0;31mTypeError\u001b[0m: can only concatenate str (not \"int\") to str"
          ]
        }
      ]
    },
    {
      "cell_type": "code",
      "source": [
        "# Also, remember booleans do have a numeric value\n",
        "print(2 + True)\n",
        "print(type(2 + True))"
      ],
      "metadata": {
        "colab": {
          "base_uri": "https://localhost:8080/"
        },
        "id": "km6qOwSjO-qq",
        "outputId": "64743b69-f011-4d47-83ee-3169cbed808d"
      },
      "execution_count": null,
      "outputs": [
        {
          "output_type": "stream",
          "name": "stdout",
          "text": [
            "3\n",
            "<class 'int'>\n"
          ]
        }
      ]
    },
    {
      "cell_type": "code",
      "source": [
        "#Subtraction\n",
        "print(2 - 2)\n",
        "print(type(2 - 2))"
      ],
      "metadata": {
        "colab": {
          "base_uri": "https://localhost:8080/"
        },
        "id": "GD7QB9d8OGy3",
        "outputId": "56446b2f-9c3c-404d-954f-b9b478204476"
      },
      "execution_count": null,
      "outputs": [
        {
          "output_type": "stream",
          "name": "stdout",
          "text": [
            "0\n",
            "<class 'int'>\n"
          ]
        }
      ]
    },
    {
      "cell_type": "code",
      "source": [
        "print(2 - 2.0)\n",
        "print(type(2 - 2.0))"
      ],
      "metadata": {
        "colab": {
          "base_uri": "https://localhost:8080/"
        },
        "id": "QO3UFVFEPLwy",
        "outputId": "44dbca67-c82b-41df-8200-2748fde2236c"
      },
      "execution_count": null,
      "outputs": [
        {
          "output_type": "stream",
          "name": "stdout",
          "text": [
            "0.0\n",
            "<class 'float'>\n"
          ]
        }
      ]
    },
    {
      "cell_type": "code",
      "source": [
        "# You cannot subtract strings though\n",
        "print(\"2\" - \"2\")\n"
      ],
      "metadata": {
        "colab": {
          "base_uri": "https://localhost:8080/",
          "height": 162
        },
        "id": "Oc2qVyjpP7uT",
        "outputId": "be2c8cbb-7dd0-4bf0-d001-e3509429b572"
      },
      "execution_count": null,
      "outputs": [
        {
          "output_type": "error",
          "ename": "TypeError",
          "evalue": "unsupported operand type(s) for -: 'str' and 'str'",
          "traceback": [
            "\u001b[0;31m---------------------------------------------------------------------------\u001b[0m",
            "\u001b[0;31mTypeError\u001b[0m                                 Traceback (most recent call last)",
            "\u001b[0;32m<ipython-input-27-b08d45965a5e>\u001b[0m in \u001b[0;36m<cell line: 2>\u001b[0;34m()\u001b[0m\n\u001b[1;32m      1\u001b[0m \u001b[0;31m# You cannot subtract strings though\u001b[0m\u001b[0;34m\u001b[0m\u001b[0;34m\u001b[0m\u001b[0m\n\u001b[0;32m----> 2\u001b[0;31m \u001b[0mprint\u001b[0m\u001b[0;34m(\u001b[0m\u001b[0;34m\"2\"\u001b[0m \u001b[0;34m-\u001b[0m \u001b[0;34m\"2\"\u001b[0m\u001b[0;34m)\u001b[0m\u001b[0;34m\u001b[0m\u001b[0;34m\u001b[0m\u001b[0m\n\u001b[0m",
            "\u001b[0;31mTypeError\u001b[0m: unsupported operand type(s) for -: 'str' and 'str'"
          ]
        }
      ]
    },
    {
      "cell_type": "code",
      "source": [
        "# Multiplication\n",
        "print(2 * 2)\n",
        "print(type(2 * 2))"
      ],
      "metadata": {
        "colab": {
          "base_uri": "https://localhost:8080/"
        },
        "id": "w2W-1wenP7wJ",
        "outputId": "6e50b21e-42e7-4804-a8e3-fb650476da57"
      },
      "execution_count": null,
      "outputs": [
        {
          "output_type": "stream",
          "name": "stdout",
          "text": [
            "4\n",
            "<class 'int'>\n",
            "22\n"
          ]
        }
      ]
    },
    {
      "cell_type": "code",
      "source": [
        "print(2 * 2.0)\n",
        "print(type(2 * 2.0))"
      ],
      "metadata": {
        "id": "WUc3JSYuP7yL"
      },
      "execution_count": null,
      "outputs": []
    },
    {
      "cell_type": "code",
      "source": [
        "# You can multiply strings, but only using integers\n",
        "print(\"2\" * 6)"
      ],
      "metadata": {
        "colab": {
          "base_uri": "https://localhost:8080/"
        },
        "id": "lISCCdivP70A",
        "outputId": "95caa077-236a-4748-b3c6-f6aaf9d2a627"
      },
      "execution_count": null,
      "outputs": [
        {
          "output_type": "stream",
          "name": "stdout",
          "text": [
            "222222\n"
          ]
        }
      ]
    },
    {
      "cell_type": "code",
      "source": [
        "# Division\n",
        "print(2 / 2)\n",
        "print(type(2 / 2)) # division will always output a float\n"
      ],
      "metadata": {
        "colab": {
          "base_uri": "https://localhost:8080/"
        },
        "id": "5GQTwF2_RipF",
        "outputId": "606de75a-4d4c-47f4-a7ab-86faf65910ea"
      },
      "execution_count": null,
      "outputs": [
        {
          "output_type": "stream",
          "name": "stdout",
          "text": [
            "1.0\n",
            "<class 'float'>\n"
          ]
        }
      ]
    },
    {
      "cell_type": "code",
      "source": [
        "print(2 / 2.0)\n",
        "print(type(2 / 2.0))"
      ],
      "metadata": {
        "colab": {
          "base_uri": "https://localhost:8080/"
        },
        "id": "WPuMsj32Rm8D",
        "outputId": "452d1009-60ea-47bb-d9c0-485aeef35e92"
      },
      "execution_count": null,
      "outputs": [
        {
          "output_type": "stream",
          "name": "stdout",
          "text": [
            "1.0\n",
            "<class 'float'>\n"
          ]
        }
      ]
    },
    {
      "cell_type": "code",
      "source": [
        "# Exponents\n",
        "print(2 ** 2)\n",
        "print(type(2 ** 2))"
      ],
      "metadata": {
        "colab": {
          "base_uri": "https://localhost:8080/"
        },
        "id": "5MXzdtKUffyl",
        "outputId": "6eb129b8-1a4e-463a-bfe7-6b5173b977db"
      },
      "execution_count": null,
      "outputs": [
        {
          "output_type": "stream",
          "name": "stdout",
          "text": [
            "4\n",
            "<class 'int'>\n"
          ]
        }
      ]
    },
    {
      "cell_type": "code",
      "source": [
        "print(2 ** 2.0)\n",
        "print(type(2 ** 2.0))"
      ],
      "metadata": {
        "colab": {
          "base_uri": "https://localhost:8080/"
        },
        "id": "sFBLWEvVLO-b",
        "outputId": "79ecbeb8-a1b3-4dac-b108-fa98a1349d5c"
      },
      "execution_count": null,
      "outputs": [
        {
          "output_type": "stream",
          "name": "stdout",
          "text": [
            "4.0\n",
            "<class 'float'>\n"
          ]
        }
      ]
    },
    {
      "cell_type": "code",
      "source": [
        "print(2 ^ 2) # also ^ is not the same as an exponent\n",
        "print(type(2 ^ 2))"
      ],
      "metadata": {
        "colab": {
          "base_uri": "https://localhost:8080/"
        },
        "id": "SNZqDMjNS4Q9",
        "outputId": "cf87ee0a-727b-42a5-f5bd-418ab411cf27"
      },
      "execution_count": null,
      "outputs": [
        {
          "output_type": "stream",
          "name": "stdout",
          "text": [
            "0\n",
            "<class 'int'>\n"
          ]
        }
      ]
    },
    {
      "cell_type": "code",
      "source": [
        "# Floored Division\n",
        "print(2 // 2)\n",
        "print(type(2 // 2))"
      ],
      "metadata": {
        "colab": {
          "base_uri": "https://localhost:8080/"
        },
        "id": "IM7xqeiFSqqq",
        "outputId": "5008ade2-007a-426c-a0f6-e7d4237b5d2e"
      },
      "execution_count": null,
      "outputs": [
        {
          "output_type": "stream",
          "name": "stdout",
          "text": [
            "1\n",
            "<class 'int'>\n"
          ]
        }
      ]
    },
    {
      "cell_type": "code",
      "source": [
        "# Floored Division\n",
        "print(2 // 2.3)\n",
        "print(type(2 // 2.3))"
      ],
      "metadata": {
        "colab": {
          "base_uri": "https://localhost:8080/"
        },
        "id": "8ov_xRw7Sqvo",
        "outputId": "51197154-b951-4cda-c7e9-7defee7782a6"
      },
      "execution_count": null,
      "outputs": [
        {
          "output_type": "stream",
          "name": "stdout",
          "text": [
            "0.0\n",
            "<class 'float'>\n"
          ]
        }
      ]
    },
    {
      "cell_type": "code",
      "source": [
        "# Modulo\n",
        "print(type(5%2))\n",
        "print(5 % 2)"
      ],
      "metadata": {
        "colab": {
          "base_uri": "https://localhost:8080/"
        },
        "id": "GBKGlC3lff1V",
        "outputId": "11e9cf04-f6a4-4fef-a215-9353f3c9bdcb"
      },
      "execution_count": null,
      "outputs": [
        {
          "output_type": "stream",
          "name": "stdout",
          "text": [
            "<class 'int'>\n",
            "1\n"
          ]
        }
      ]
    },
    {
      "cell_type": "code",
      "source": [
        "print(type(5 % 2.3))\n",
        "print(5 % 2.3)"
      ],
      "metadata": {
        "colab": {
          "base_uri": "https://localhost:8080/"
        },
        "id": "nnBGS0q3ff39",
        "outputId": "5e0e5ec9-efbe-4d9e-b24e-26c2ddf9c7f9"
      },
      "execution_count": null,
      "outputs": [
        {
          "output_type": "stream",
          "name": "stdout",
          "text": [
            "<class 'float'>\n",
            "0.40000000000000036\n"
          ]
        }
      ]
    },
    {
      "cell_type": "code",
      "source": [
        "# These operators follow PEMDAS\n",
        "4 + 4 * 2**2"
      ],
      "metadata": {
        "id": "oUH7iftpTzGr"
      },
      "execution_count": null,
      "outputs": []
    },
    {
      "cell_type": "code",
      "source": [
        "# Parentheses makes things easier to follow especially as things get more complicated\n",
        "( 4 + ( 4 * ( 2**(1 + 1) ) ) )"
      ],
      "metadata": {
        "colab": {
          "base_uri": "https://localhost:8080/"
        },
        "id": "xYPwHFO7TzJD",
        "outputId": "216ce006-c7ed-41fd-fce6-24d643a4a3b5"
      },
      "execution_count": null,
      "outputs": [
        {
          "output_type": "execute_result",
          "data": {
            "text/plain": [
              "20"
            ]
          },
          "metadata": {},
          "execution_count": 66
        }
      ]
    },
    {
      "cell_type": "code",
      "source": [
        "# Finally, if you just want to update a value of a variable you can use the += notation\n",
        "\n",
        "x = 5\n",
        "print(x)\n",
        "x += 2\n",
        "print(x)\n",
        "\n",
        "# this works for all arithmetic operators *=, -=, **=, etc."
      ],
      "metadata": {
        "colab": {
          "base_uri": "https://localhost:8080/"
        },
        "id": "92VUr5fue5a5",
        "outputId": "3f493d1f-2e57-4735-8842-d3f7683cea3b"
      },
      "execution_count": null,
      "outputs": [
        {
          "output_type": "stream",
          "name": "stdout",
          "text": [
            "5\n",
            "7\n"
          ]
        }
      ]
    },
    {
      "cell_type": "markdown",
      "source": [
        "**Relational Operators**\n",
        "\n",
        "These are operators that take in variables and return a boolean output. These include:\n",
        "\n",
        "is equal to ==\n",
        "\n",
        "is not equal to !=\n",
        "\n",
        "is greater than >\n",
        "\n",
        "is greater than or equal to >=\n",
        "\n",
        "is less than <\n",
        "\n",
        "is less than or equal to <=\n",
        "\n",
        "**Identity Operators**\n",
        "\n",
        "This just refers to the key words is and is not which check if two objects share the same space in memory\n",
        "\n",
        "\n",
        "**Logical Operators**\n",
        "\n",
        "These are key words and, or, and not\n",
        "\n",
        "and returns true only if both operands are true\n",
        "\n",
        "or returns true if at least one operand is true\n",
        "\n",
        "not negates whatever is being evaluated"
      ],
      "metadata": {
        "id": "A_pyeMiYUi8w"
      }
    },
    {
      "cell_type": "code",
      "source": [
        "# Relational Operators\n",
        "print(7 == 7)\n",
        "\n",
        "print(7 != 7)\n",
        "\n",
        "print(7 <= 7)"
      ],
      "metadata": {
        "colab": {
          "base_uri": "https://localhost:8080/"
        },
        "id": "2Q9SpXZOVeOV",
        "outputId": "5457e50d-daed-44a1-98c8-cf194ed542a6"
      },
      "execution_count": null,
      "outputs": [
        {
          "output_type": "stream",
          "name": "stdout",
          "text": [
            "True\n",
            "False\n",
            "True\n"
          ]
        }
      ]
    },
    {
      "cell_type": "code",
      "source": [
        "print(7 <= 7)\n",
        "\n",
        "print(7 <= 7.0)\n",
        "\n",
        "print(7 == 7.0)"
      ],
      "metadata": {
        "colab": {
          "base_uri": "https://localhost:8080/"
        },
        "id": "UNiJKVRhXP27",
        "outputId": "b0e70e35-7d75-4eac-fc5f-ec5a18b6130b"
      },
      "execution_count": null,
      "outputs": [
        {
          "output_type": "stream",
          "name": "stdout",
          "text": [
            "True\n",
            "True\n",
            "True\n"
          ]
        }
      ]
    },
    {
      "cell_type": "code",
      "source": [
        "# You can have multiple in a row\n",
        "\n",
        "print(7 < 8 < 9 < 10)\n"
      ],
      "metadata": {
        "colab": {
          "base_uri": "https://localhost:8080/"
        },
        "id": "mebps-5LWL0c",
        "outputId": "0c0d125b-6374-42c9-fa39-89e3a1081730"
      },
      "execution_count": null,
      "outputs": [
        {
          "output_type": "stream",
          "name": "stdout",
          "text": [
            "True\n"
          ]
        }
      ]
    },
    {
      "cell_type": "code",
      "source": [
        "\n",
        "print(7 < 10 > 9 > 8) # you can use multiple of these together but it will make it more confusing to read"
      ],
      "metadata": {
        "colab": {
          "base_uri": "https://localhost:8080/"
        },
        "id": "yxhlUXL2WXb9",
        "outputId": "8e969ddd-1225-4ae3-e066-417f8e9af36c"
      },
      "execution_count": null,
      "outputs": [
        {
          "output_type": "stream",
          "name": "stdout",
          "text": [
            "True\n"
          ]
        }
      ]
    },
    {
      "cell_type": "code",
      "source": [
        "print(\"Hello\" == \"hello\") # Strings are case sensitive\n",
        "print(\"hello\" == 'hello') # again, \"\" is the same as '' when used to define strings\n"
      ],
      "metadata": {
        "colab": {
          "base_uri": "https://localhost:8080/"
        },
        "id": "AmFFQeeSWlEQ",
        "outputId": "19e1ae2c-f9a9-4348-d593-3b4e09788863"
      },
      "execution_count": null,
      "outputs": [
        {
          "output_type": "stream",
          "name": "stdout",
          "text": [
            "False\n",
            "True\n"
          ]
        }
      ]
    },
    {
      "cell_type": "code",
      "source": [
        "# Identity Operators\n",
        "a = 5\n",
        "b = a\n",
        "a is b"
      ],
      "metadata": {
        "colab": {
          "base_uri": "https://localhost:8080/"
        },
        "id": "wc8cemnIc1Sx",
        "outputId": "16584159-aa06-4b53-bd49-10f36c73c9c3"
      },
      "execution_count": null,
      "outputs": [
        {
          "output_type": "execute_result",
          "data": {
            "text/plain": [
              "True"
            ]
          },
          "metadata": {},
          "execution_count": 85
        }
      ]
    },
    {
      "cell_type": "code",
      "source": [
        "a = 5\n",
        "b = a\n",
        "b = b + 1 # while performing an operation causes this to change identity, this is not always true\n",
        "a is b"
      ],
      "metadata": {
        "colab": {
          "base_uri": "https://localhost:8080/"
        },
        "id": "Dptx4hIEfruk",
        "outputId": "354f8f33-6749-42a5-a828-0c0829619c7a"
      },
      "execution_count": null,
      "outputs": [
        {
          "output_type": "execute_result",
          "data": {
            "text/plain": [
              "False"
            ]
          },
          "metadata": {},
          "execution_count": 89
        }
      ]
    },
    {
      "cell_type": "code",
      "source": [
        "a = 5.6\n",
        "b = 5.6\n",
        "a is b"
      ],
      "metadata": {
        "colab": {
          "base_uri": "https://localhost:8080/"
        },
        "id": "HxSerTkWXuTu",
        "outputId": "06fff36a-5f4e-4acc-ab4d-308bc8641715"
      },
      "execution_count": null,
      "outputs": [
        {
          "output_type": "execute_result",
          "data": {
            "text/plain": [
              "False"
            ]
          },
          "metadata": {},
          "execution_count": 94
        }
      ]
    },
    {
      "cell_type": "code",
      "source": [
        "a = 5\n",
        "b = 5\n",
        "a is b # this was not an expected outpue"
      ],
      "metadata": {
        "colab": {
          "base_uri": "https://localhost:8080/"
        },
        "id": "n9XgeBlqYit-",
        "outputId": "91925030-f5c0-4736-f149-8abaf7380d36"
      },
      "execution_count": null,
      "outputs": [
        {
          "output_type": "execute_result",
          "data": {
            "text/plain": [
              "True"
            ]
          },
          "metadata": {},
          "execution_count": 95
        }
      ]
    },
    {
      "cell_type": "code",
      "source": [
        "# Logical Operators\n",
        "print(True and True)\n",
        "print(True and False)\n"
      ],
      "metadata": {
        "colab": {
          "base_uri": "https://localhost:8080/"
        },
        "id": "INMIko5lYtOz",
        "outputId": "c1208f19-75d4-467f-820d-b6a348e0477e"
      },
      "execution_count": null,
      "outputs": [
        {
          "output_type": "stream",
          "name": "stdout",
          "text": [
            "True\n",
            "False\n"
          ]
        }
      ]
    },
    {
      "cell_type": "code",
      "source": [
        "print(True or True)\n",
        "print(True or False)"
      ],
      "metadata": {
        "colab": {
          "base_uri": "https://localhost:8080/"
        },
        "id": "iHcm_WvGc49B",
        "outputId": "0628c170-7e38-4885-bdad-9a94c4cd3856"
      },
      "execution_count": null,
      "outputs": [
        {
          "output_type": "stream",
          "name": "stdout",
          "text": [
            "True\n",
            "True\n"
          ]
        }
      ]
    },
    {
      "cell_type": "code",
      "source": [
        "print(not True)\n",
        "print(not False)"
      ],
      "metadata": {
        "colab": {
          "base_uri": "https://localhost:8080/"
        },
        "id": "YPjQn9W_c-yI",
        "outputId": "829b1c0c-aaea-4158-852a-ccda7d878d54"
      },
      "execution_count": null,
      "outputs": [
        {
          "output_type": "stream",
          "name": "stdout",
          "text": [
            "False\n",
            "True\n"
          ]
        }
      ]
    },
    {
      "cell_type": "markdown",
      "source": [
        "**Conditionals**\n",
        "\n",
        "This is how you tell the computer to make choices whether or not to run a specific section of code based on whether or not a condition is met. The basic format for this is an ifelse statement like this:\n",
        "\n",
        "if something is true:\n",
        "\n",
        "do task a\n",
        "\n",
        "else:\n",
        "\n",
        "do task b\n"
      ],
      "metadata": {
        "id": "mK9GP7nUeHIX"
      }
    },
    {
      "cell_type": "code",
      "source": [
        "# Conditionals\n",
        "x = 4\n",
        "if x > 3:\n",
        "  y = x * 3\n",
        "  print(y)\n",
        "\n",
        "else:\n",
        "  print(x)\n",
        "\n"
      ],
      "metadata": {
        "colab": {
          "base_uri": "https://localhost:8080/"
        },
        "id": "mo0tHk73xfeW",
        "outputId": "8beea2b8-9cae-4e05-9f81-a99a0d2c903d"
      },
      "execution_count": null,
      "outputs": [
        {
          "output_type": "stream",
          "name": "stdout",
          "text": [
            "12\n"
          ]
        }
      ]
    },
    {
      "cell_type": "code",
      "source": [
        "x = 2\n",
        "if x > 3:\n",
        "  y = x * 3\n",
        "  print(y)\n",
        "else:\n",
        "  print(x)"
      ],
      "metadata": {
        "colab": {
          "base_uri": "https://localhost:8080/"
        },
        "id": "UNS2x7T1xfgd",
        "outputId": "bfda0d9a-89b9-45ac-8c96-a7181eb369d7"
      },
      "execution_count": null,
      "outputs": [
        {
          "output_type": "stream",
          "name": "stdout",
          "text": [
            "3\n"
          ]
        }
      ]
    },
    {
      "cell_type": "code",
      "source": [
        "x = 2\n",
        "if x > 5:\n",
        "  y = x * 3\n",
        "  print(y)\n",
        "elif x > 3: # elif is another layer you can add to ask the computer to evaluate before defaulting to the else statement\n",
        "  print(x * 5)\n",
        "else:\n",
        "  print(x)"
      ],
      "metadata": {
        "colab": {
          "base_uri": "https://localhost:8080/"
        },
        "id": "0CEEv-pWx-6e",
        "outputId": "850b3c0a-af13-481f-fa26-b0421add5e24"
      },
      "execution_count": null,
      "outputs": [
        {
          "output_type": "stream",
          "name": "stdout",
          "text": [
            "2\n"
          ]
        }
      ]
    },
    {
      "cell_type": "code",
      "source": [
        "x = 6\n",
        "if x > 5:\n",
        "  y = x * 3\n",
        "  print(y)\n",
        "elif x > 3:\n",
        "  print(x * 5)\n",
        "else:\n",
        "  print(x)"
      ],
      "metadata": {
        "colab": {
          "base_uri": "https://localhost:8080/"
        },
        "id": "-d5U4N2Ex-8i",
        "outputId": "43b930d2-d676-4ca5-d5fd-bb1db267e5cc"
      },
      "execution_count": null,
      "outputs": [
        {
          "output_type": "stream",
          "name": "stdout",
          "text": [
            "18\n"
          ]
        }
      ]
    },
    {
      "cell_type": "code",
      "source": [
        "x = 4\n",
        "if x > 5:\n",
        "  y = x * 3\n",
        "  print(y)\n",
        "elif x > 3:\n",
        "  print(x * 5)\n",
        "else:\n",
        "  print(x)"
      ],
      "metadata": {
        "colab": {
          "base_uri": "https://localhost:8080/"
        },
        "id": "gn73gKKRyO0p",
        "outputId": "98d3dd41-3c83-43ef-cc7d-e0a1814060e3"
      },
      "execution_count": null,
      "outputs": [
        {
          "output_type": "stream",
          "name": "stdout",
          "text": [
            "20\n"
          ]
        }
      ]
    },
    {
      "cell_type": "code",
      "source": [
        "x = 2\n",
        "if x > 5:\n",
        "  y = x * 3\n",
        "  print(y)\n",
        "elif x > 3:\n",
        "  print(x * 5)\n",
        "else:\n",
        "  print(x)"
      ],
      "metadata": {
        "colab": {
          "base_uri": "https://localhost:8080/"
        },
        "id": "RnkOl_RRyRLt",
        "outputId": "00dfeffd-3524-4b2b-aa3b-a814e63f2f34"
      },
      "execution_count": null,
      "outputs": [
        {
          "output_type": "stream",
          "name": "stdout",
          "text": [
            "2\n"
          ]
        }
      ]
    },
    {
      "cell_type": "code",
      "source": [
        "# Exercise 1\n",
        "# make a conditional that when x is greater than 5 the variable is assigned a value of 5\n",
        "# and all others then the value of the variable is assigned the input value\n",
        "\n",
        "x = 5\n"
      ],
      "metadata": {
        "id": "49-fIWsbaI1E"
      },
      "execution_count": null,
      "outputs": []
    },
    {
      "cell_type": "code",
      "source": [
        "# Exercise 2\n",
        "# make a conditional that when and if the x is greater than 5 the variable is assigned a value of 5\n",
        "# if the variable is a string that it will print \"sorry this is not an acceptable format\"\n",
        "# and all others then the value of the variable is assigned the input value\n",
        "\n",
        "x = input()"
      ],
      "metadata": {
        "id": "434o1zb5au8B"
      },
      "execution_count": null,
      "outputs": []
    },
    {
      "cell_type": "markdown",
      "source": [
        "**Higher Level Data Types** \\\n",
        "There are three common default higher level data types. They are tuples, lists, and dictionaries.\n",
        "\n",
        "\\\n",
        "List - Deliminated by [ ]. These are mutable, have a defined order, and can contain objects of other types within them. Examples:\\\n",
        "x = [ 1 , 2 , 3 , 4 , 5] \\\n",
        "x = [ \"Hello\" , \"World\" , z , 1] \\\n",
        "x = [ [ ], [ 1 ] , [ \"Hello\", 1] ] \\\n",
        "\\\n",
        "Tuples - Deliminated by ( ). These are immutable, have a defined order, and can contain objects of other types within them. Examples:\\\n",
        "x = ( 1 , 2 , 3 , 4 , 5 ) \\\n",
        "x = ( \"Hello\" , \"my\" , z , 1 ) \\\n",
        "x = ( [ ], [ 1 ] , [ \"Hello\", 1] ) \\\n",
        "\\\n",
        "Dictionaries - Deliminated by { key : value }. These are mutable, have no defined order, and can contain objects of other types within them. Examples: \\\n",
        "x = {\n",
        "\"fruits\" : [\"banana\", \"apple\", \"orange\"],\n",
        "\"vegetables\" : [\"broccoli\", \"squash\", \"carrot\"] }\n",
        "\n",
        "\\\n",
        "\n"
      ],
      "metadata": {
        "id": "8nzM712aRW0U"
      }
    },
    {
      "cell_type": "code",
      "source": [
        "# Manipulating data types\n",
        "name = \"name\"\n",
        "list1 = [ \"Hello\" , \"world\", \"my\", \"name\", \"is\", name ] # can also be specified by list( \"Hello\" , \"World\" )\n",
        "print(list1)\n",
        "print(list1[0]) # you can access the contents by indexing. In python the first element starts at 0.\n",
        "print(list1[4])"
      ],
      "metadata": {
        "colab": {
          "base_uri": "https://localhost:8080/"
        },
        "id": "ycc3CcbJRRIt",
        "outputId": "030de1ff-f5f0-4f50-a998-aac5049277c6"
      },
      "execution_count": null,
      "outputs": [
        {
          "output_type": "stream",
          "name": "stdout",
          "text": [
            "['Hello', 'world', 'my', 'name', 'is', 'name']\n",
            "Hello\n",
            "is\n"
          ]
        }
      ]
    },
    {
      "cell_type": "code",
      "source": [
        "print(list1[0][0]) # you can also access sections of strings by indexing as well\n",
        "print(list1[0][0:3]) # The basic format for indexing is [start:stop:step]\n",
        "print(list1[0][:]) # To get all elements between two indexes we use \":\"\n",
        "print(list1[0][2:])\n",
        "print(list1[1:4])  # This works for indexing lists too\n",
        "print(list1[::2])  # by adding a second : you can specify a \"step\"\n",
        "print(list1[::-1])  # you can even make it go backwards"
      ],
      "metadata": {
        "colab": {
          "base_uri": "https://localhost:8080/"
        },
        "id": "xKBgHY14VGyd",
        "outputId": "78f297ea-5ed5-4f30-a48b-16ffab8b9f4a"
      },
      "execution_count": null,
      "outputs": [
        {
          "output_type": "stream",
          "name": "stdout",
          "text": [
            "H\n",
            "Hel\n",
            "Hello\n",
            "llo\n",
            "['world', 'my', 'name']\n",
            "['Hello', 'my', 'is']\n",
            "['name', 'is', 'name', 'my', 'world', 'Hello']\n"
          ]
        }
      ]
    },
    {
      "cell_type": "code",
      "source": [
        "list2 = list1\n",
        "print(list2)\n",
        "list2[3] = \"whatever\"\n",
        "print(list2)\n",
        "print(list1)"
      ],
      "metadata": {
        "colab": {
          "base_uri": "https://localhost:8080/"
        },
        "id": "BFep_gAKyqrZ",
        "outputId": "a39b09fd-ce05-49e6-8849-096836c949d4"
      },
      "execution_count": null,
      "outputs": [
        {
          "output_type": "stream",
          "name": "stdout",
          "text": [
            "['Hello', 'world', 'my', 'name', 'is', 'name']\n",
            "['Hello', 'world', 'my', 'whatever', 'is', 'name']\n",
            "['Hello', 'world', 'my', 'whatever', 'is', 'name']\n"
          ]
        }
      ]
    },
    {
      "cell_type": "code",
      "source": [
        "list1 = [ \"Hello\" , \"world\", \"my\", \"name\", \"is\", name ]"
      ],
      "metadata": {
        "id": "3Iv9hIhUy5uJ"
      },
      "execution_count": null,
      "outputs": []
    },
    {
      "cell_type": "code",
      "source": [
        "list2 = list1.copy() # to avoid this sort of overriding we need to make a copy. Many object types have this built in\n",
        "print(list2)\n",
        "list2[3] = \"whatever\"\n",
        "print(list2)\n",
        "print(list1)"
      ],
      "metadata": {
        "colab": {
          "base_uri": "https://localhost:8080/"
        },
        "id": "eJrBNJrDbGbL",
        "outputId": "135caeac-2e20-4933-bce0-0e63810e29cc"
      },
      "execution_count": null,
      "outputs": [
        {
          "output_type": "stream",
          "name": "stdout",
          "text": [
            "['Hello', 'world', 'my', 'name', 'is', 'name']\n",
            "['Hello', 'world', 'my', 'whatever', 'is', 'name']\n",
            "['Hello', 'world', 'my', 'name', 'is', 'name']\n"
          ]
        }
      ]
    },
    {
      "cell_type": "code",
      "source": [
        "# Lists can also have operators in them when you are defining them\n",
        "my_list_3 = [2+3, 5*3, 4**2]\n",
        "print(my_list_3)"
      ],
      "metadata": {
        "colab": {
          "base_uri": "https://localhost:8080/"
        },
        "id": "AwOVcw3m_BEh",
        "outputId": "0a8a6012-847e-4fb5-861f-232c69a8b1fb"
      },
      "execution_count": null,
      "outputs": [
        {
          "output_type": "stream",
          "name": "stdout",
          "text": [
            "[5, 15, 16]\n"
          ]
        }
      ]
    },
    {
      "cell_type": "code",
      "source": [
        "# They can also be added together and multiplied like strings\n",
        "print(my_list_3 * 3)\n",
        "print(my_list_3 + my_list_3)"
      ],
      "metadata": {
        "colab": {
          "base_uri": "https://localhost:8080/"
        },
        "id": "H2aVAYFm_IMx",
        "outputId": "39752668-e294-468f-fbe0-bfe15be1b172"
      },
      "execution_count": null,
      "outputs": [
        {
          "output_type": "stream",
          "name": "stdout",
          "text": [
            "[5, 15, 16, 5, 15, 16, 5, 15, 16]\n",
            "[5, 15, 16, 5, 15, 16]\n"
          ]
        }
      ]
    },
    {
      "cell_type": "code",
      "source": [
        "# I mentioned that you can pretty much go from anything to a string\n",
        "# I am going to show you how you might convert a list into a string a few different ways and then go back\n",
        "# The first way I am showing you is the worst\n",
        "print(type(list1))\n",
        "print(list1)\n",
        "string1 = str(list1)\n",
        "print(type(string1))\n",
        "print(string1)\n"
      ],
      "metadata": {
        "colab": {
          "base_uri": "https://localhost:8080/"
        },
        "id": "iz9_0KcTVtzv",
        "outputId": "9c28580f-a4e1-4090-965b-52818681001d"
      },
      "execution_count": null,
      "outputs": [
        {
          "output_type": "stream",
          "name": "stdout",
          "text": [
            "<class 'list'>\n",
            "['Hello', 'world', 'my', 'name', 'is', 'name']\n",
            "<class 'str'>\n",
            "['Hello', 'world', 'my', 'name', 'is', 'name']\n"
          ]
        }
      ]
    },
    {
      "cell_type": "code",
      "source": [
        "# Further illustrating how the object has changed\n",
        "print(list1[0])\n",
        "print(string1[0])"
      ],
      "metadata": {
        "colab": {
          "base_uri": "https://localhost:8080/"
        },
        "id": "0JeaE0BeVt2y",
        "outputId": "9581bd62-fc6b-423f-fd61-8b930a612a4a"
      },
      "execution_count": null,
      "outputs": [
        {
          "output_type": "stream",
          "name": "stdout",
          "text": [
            "Hello\n",
            "[\n"
          ]
        }
      ]
    },
    {
      "cell_type": "code",
      "source": [
        "# To get this looking like a reasonable sentence we need to use what is called a method\n",
        "# Methods are like functions that are intrinsically tied to the object type.\n",
        "# This is based on an idea in programming called object oriented programming. We will not touch on this much.\n",
        "new_string1 = string1.replace('[', '') # we can replace elements of a string using the .replace method\n",
        "print(new_string1)\n",
        "new_string1 = new_string1.replace(']', '')\n",
        "print(new_string1)\n",
        "new_string1 = new_string1.replace(\"'\", '')\n",
        "print(new_string1)\n",
        "new_string1 = new_string1.replace(\",\", '')\n",
        "print(new_string1)\n",
        "print(new_string1.split(\" \")) # and we can return it to a list using the .split method\n",
        "print(type(list1))"
      ],
      "metadata": {
        "colab": {
          "base_uri": "https://localhost:8080/"
        },
        "id": "qI875NBgaVJz",
        "outputId": "9aca33b3-d132-4665-8bad-ef1c61124e9f"
      },
      "execution_count": null,
      "outputs": [
        {
          "output_type": "stream",
          "name": "stdout",
          "text": [
            "'Hello', 'world', 'my', 'name', 'is', 'name']\n",
            "'Hello', 'world', 'my', 'name', 'is', 'name'\n",
            "Hello, world, my, name, is, name\n",
            "Hello world my name is name\n",
            "['Hello', 'world', 'my', 'name', 'is', 'name']\n",
            "<class 'list'>\n"
          ]
        }
      ]
    },
    {
      "cell_type": "code",
      "source": [
        "# The easiest way to have done this though is using the join method. More string methods can be found using\n",
        "# For more methods methods, look here https://www.w3schools.com/python/python_ref_list.asp\n",
        "print(\" \".join(list1))"
      ],
      "metadata": {
        "colab": {
          "base_uri": "https://localhost:8080/"
        },
        "id": "cnSDrDL0cG46",
        "outputId": "d19bb538-6dde-4ef3-9892-3167a1ba5797"
      },
      "execution_count": null,
      "outputs": [
        {
          "output_type": "stream",
          "name": "stdout",
          "text": [
            "Hello world my name is name\n"
          ]
        }
      ]
    },
    {
      "cell_type": "code",
      "source": [
        "# Some important methods associated with lists\n",
        "list1 = [ \"Hello\", \"world\", \"my\", \"name\", \"is\", name ]\n",
        "list1.append(\".\") # Append adds a new element to the last position in the list\n",
        "print(list1)\n",
        "x = list1.pop(1) # pop removes an element at a specified index, but also returns that element\n",
        "print(list1)\n",
        "print(x)\n",
        "list1.remove(\"Hello\") # remove removes the first element found with the specified value\n",
        "print(list1)"
      ],
      "metadata": {
        "colab": {
          "base_uri": "https://localhost:8080/"
        },
        "id": "upMJRYmX_4tj",
        "outputId": "70485e26-e3fc-4360-b869-63f5b455d2db"
      },
      "execution_count": null,
      "outputs": [
        {
          "output_type": "stream",
          "name": "stdout",
          "text": [
            "['Hello', 'world', 'my', 'name', 'is', 'name', '.']\n",
            "['Hello', 'my', 'name', 'is', 'name', '.']\n",
            "world\n",
            "['my', 'name', 'is', 'name', '.']\n"
          ]
        }
      ]
    },
    {
      "cell_type": "code",
      "source": [
        "# Dictionaries\n",
        "\n",
        "mydict = { \"fruits\" : [\"banana\", \"apple\", \"orange\"], \"vegetables\" : [\"broccoli\", \"squash\", \"carrot\"] }\n",
        "\n",
        "print(mydict)\n",
        "print(mydict[\"fruits\"])\n",
        "print(mydict[\"fruits\"][0])\n"
      ],
      "metadata": {
        "id": "emyFETlzaVMF",
        "colab": {
          "base_uri": "https://localhost:8080/"
        },
        "outputId": "3babb770-b1ef-44a6-b4c5-3c7eeec246d2"
      },
      "execution_count": null,
      "outputs": [
        {
          "output_type": "stream",
          "name": "stdout",
          "text": [
            "{'fruits': ['banana', 'apple', 'orange'], 'vegetables': ['broccoli', 'squash', 'carrot']}\n",
            "['banana', 'apple', 'orange']\n",
            "banana\n"
          ]
        }
      ]
    },
    {
      "cell_type": "code",
      "source": [
        "# You can also make dictionaries using the dict function:\n",
        "print(dict((('a', 6), ('b', 7), ('c', 27.6))))\n",
        "print(dict(a='yes', b='no', c='maybe'))"
      ],
      "metadata": {
        "colab": {
          "base_uri": "https://localhost:8080/"
        },
        "id": "P1qCd40wBWIf",
        "outputId": "d4bd47d3-1cfe-4620-9ef5-9c96896ed37e"
      },
      "execution_count": null,
      "outputs": [
        {
          "output_type": "stream",
          "name": "stdout",
          "text": [
            "{'a': 6, 'b': 7, 'c': 27.6}\n",
            "{'a': 'yes', 'b': 'no', 'c': 'maybe'}\n"
          ]
        }
      ]
    },
    {
      "cell_type": "code",
      "source": [
        "# you can add new elements to a dictioary by just specifying a new key\n",
        "mydict[\"breads\"] = [\"White\", \"Whole Wheat\", \"Multigrain\" ]\n",
        "mydict\n",
        "print(mydict)\n",
        "# you can update elements in a dictionary a similar way\n",
        "mydict[\"vegetables\"] = mydict[\"vegetables\"] + [\"corn\" ]\n",
        "print(mydict)\n",
        "\n"
      ],
      "metadata": {
        "id": "k08IisAncE29",
        "colab": {
          "base_uri": "https://localhost:8080/"
        },
        "outputId": "af785d38-5c55-4391-fd5d-9b226f11e883"
      },
      "execution_count": null,
      "outputs": [
        {
          "output_type": "stream",
          "name": "stdout",
          "text": [
            "{'fruits': ['banana', 'apple', 'orange'], 'vegetables': ['broccoli', 'squash', 'carrot'], 'breads': ['White', 'Whole Wheat', 'Multigrain']}\n",
            "{'fruits': ['banana', 'apple', 'orange'], 'vegetables': ['broccoli', 'squash', 'carrot', 'corn'], 'breads': ['White', 'Whole Wheat', 'Multigrain']}\n"
          ]
        }
      ]
    },
    {
      "cell_type": "code",
      "source": [
        "# These are some methods that are relatively useful\n",
        "d = dict(a='yes', b='no', c='maybe')\n",
        "print(d.keys())\n",
        "print(d.get(\"a\", \"no key found\"))\n",
        "print(d.get(\"d\", \"no key found\"))\n",
        "print(d.values())\n",
        "print(d.pop(\"c\"))\n",
        "print(d)"
      ],
      "metadata": {
        "colab": {
          "base_uri": "https://localhost:8080/"
        },
        "id": "Y487cfZICC2L",
        "outputId": "61e6e28e-aa6c-41e3-98b4-b4a11c3d92fc"
      },
      "execution_count": null,
      "outputs": [
        {
          "output_type": "stream",
          "name": "stdout",
          "text": [
            "dict_keys(['a', 'b', 'c'])\n",
            "yes\n",
            "no key found\n",
            "dict_values(['yes', 'no', 'maybe'])\n",
            "maybe\n",
            "{'a': 'yes', 'b': 'no'}\n"
          ]
        }
      ]
    },
    {
      "cell_type": "code",
      "source": [
        "# Exercise 1\n",
        "# Given the following assigment of the list of fruits, add \"tomato\" to the end of the list.\n",
        "fruits = [\"mango\", \"banana\", \"guava\", \"kiwi\", \"strawberry\"]\n",
        "\n",
        "assert fruits == [\"mango\", \"banana\", \"guava\", \"kiwi\", \"strawberry\", \"tomato\"], \"Ensure the variable contains all the strings in the right order\"\n",
        "print(\"Exercise 1 is correct\")"
      ],
      "metadata": {
        "id": "iw7Fs5_-YKXP"
      },
      "execution_count": null,
      "outputs": []
    },
    {
      "cell_type": "code",
      "source": [
        "# Exercise 2\n",
        "# Given the list of numbers defined below, reverse the list of numbers that you created above.\n",
        "numbers = [1, 2, 3, 4, 5, 6, 7, 8, 9, 10]\n",
        "\n",
        "assert numbers == [10, 9, 8, 7, 6, 5, 4, 3, 2, 1], \"Assert Error means that the answer is incorrect.\"\n",
        "print(\"Exercise 2 is correct.\")"
      ],
      "metadata": {
        "id": "U7WZFpf4YUCO"
      },
      "execution_count": null,
      "outputs": []
    },
    {
      "cell_type": "code",
      "source": [
        "# Exercise 3\n",
        "# Sort the vegetables in alphabetical order\n",
        "vegetables = [\"eggplant\", \"broccoli\", \"carrot\", \"cauliflower\", \"zucchini\"]\n",
        "\n",
        "\n",
        "assert vegetables == ['broccoli', 'carrot', 'cauliflower', 'eggplant', 'zucchini']\n",
        "print(\"Exercise 3 is correct.\")"
      ],
      "metadata": {
        "id": "jPov3yIsYsLc"
      },
      "execution_count": null,
      "outputs": []
    },
    {
      "cell_type": "code",
      "source": [
        "# Exercise 4\n",
        "# Write the code necessary to sort the fruits in reverse alphabetical order\n",
        "\n",
        "assert fruits == ['tomato', 'strawberry', 'mango', 'kiwi', 'guava', 'banana']\n",
        "print(\"Exercise 4 is correct.\")"
      ],
      "metadata": {
        "id": "rluDdCsdZAjx"
      },
      "execution_count": null,
      "outputs": []
    },
    {
      "cell_type": "code",
      "source": [
        "# Exercise 5\n",
        "# Write the code necessary to produce a single list that holds all fruits then all vegetables in the order as they were sorted above.\n",
        "\n",
        "assert fruits_and_veggies == ['tomato', 'strawberry', 'mango', 'kiwi', 'guava', 'banana', 'broccoli', 'carrot', 'cauliflower', 'eggplant', 'tomato', 'zucchini']\n",
        "print(\"Exercise 5 is correct\")"
      ],
      "metadata": {
        "id": "--9NoIiIY00B"
      },
      "execution_count": null,
      "outputs": []
    },
    {
      "cell_type": "code",
      "source": [
        "['tomato', 'strawberry', 'mango', 'kiwi', 'guava', 'banana', 'broccoli', 'carrot', 'cauliflower', 'eggplant', 'tomato', 'zucchini'][2::3]"
      ],
      "metadata": {
        "colab": {
          "base_uri": "https://localhost:8080/"
        },
        "id": "6lz_jNqHnqBH",
        "outputId": "1bddb004-3d06-4a1b-fa40-9f02cd95912f"
      },
      "execution_count": 12,
      "outputs": [
        {
          "output_type": "execute_result",
          "data": {
            "text/plain": [
              "['mango', 'banana', 'cauliflower', 'zucchini']"
            ]
          },
          "metadata": {},
          "execution_count": 12
        }
      ]
    },
    {
      "cell_type": "code",
      "source": [
        "\n",
        "# Exercise 6\n",
        "# select the first 5 elements of this list\n",
        "\n",
        "fruits_and_veggies = ['tomato', 'strawberry', 'mango', 'kiwi', 'guava', 'banana', 'broccoli', 'carrot', 'cauliflower', 'eggplant', 'tomato', 'zucchini']\n",
        "\n",
        "\n",
        "assert first_five == ['tomato', 'strawberry', 'mango', 'kiwi', 'guava']\n",
        "print(\"Exercise 6 is correct\")"
      ],
      "metadata": {
        "id": "mGkpWwlWn9QR"
      },
      "execution_count": null,
      "outputs": []
    },
    {
      "cell_type": "code",
      "source": [
        "\n",
        "# Exercise 7\n",
        "# select every third element of this list\n",
        "\n",
        "fruits_and_veggies = ['tomato', 'strawberry', 'mango', 'kiwi', 'guava', 'banana', 'broccoli', 'carrot', 'cauliflower', 'eggplant', 'tomato', 'zucchini']\n",
        "\n",
        "\n",
        "assert third_element_list == ['mango', 'banana', 'cauliflower', 'zucchini']\n",
        "print(\"Exercise 7 is correct\")\n"
      ],
      "metadata": {
        "id": "pir4MMyPnjYe"
      },
      "execution_count": null,
      "outputs": []
    },
    {
      "cell_type": "code",
      "source": [
        "# Exercise 8\n",
        "# remove the third and fifth element of this list\n",
        "\n",
        "fruits_and_veggies = ['tomato', 'strawberry', 'mango', 'kiwi', 'guava', 'banana', 'broccoli', 'carrot', 'cauliflower', 'eggplant', 'tomato', 'zucchini']\n",
        "\n",
        "\n",
        "assert new_list == ['tomato', 'strawberry', 'kiwi', 'banana', 'broccoli', 'carrot', 'cauliflower', 'eggplant', 'tomato', 'zucchini']\n",
        "print(\"Exercise 8 is correct\")\n"
      ],
      "metadata": {
        "id": "xmgw2MRfoOaH"
      },
      "execution_count": null,
      "outputs": []
    },
    {
      "cell_type": "code",
      "source": [
        "# Run this cell in order to have these two dictionary variables defined.\n",
        "tukey_paper = {\n",
        "    \"title\": \"The Future of Data Analysis\",\n",
        "    \"author\": \"John W. Tukey\",\n",
        "    \"link\": \"https://projecteuclid.org/euclid.aoms/1177704711\",\n",
        "    \"year_published\": 1962\n",
        "}\n",
        "\n",
        "thomas_paper = {\n",
        "    \"title\": \"A mathematical model of glutathione metabolism\",\n",
        "    \"author\": \"Rachel Thomas\",\n",
        "    \"link\": \"https://www.ncbi.nlm.nih.gov/pubmed/18442411\",\n",
        "    \"year_published\": 2008\n",
        "}"
      ],
      "metadata": {
        "id": "wVY9gOrYZOHy"
      },
      "execution_count": null,
      "outputs": []
    },
    {
      "cell_type": "code",
      "source": [
        "# Exercise 9\n",
        "# Access the titles of these papers from the dictionaries\n",
        "\n",
        "assert tukey_paper_title == \"The Future of Data Analysis\"\n",
        "assert thomas_paper_title == \"A mathematical model of glutathione metabolism\"\n",
        "print(\"Exercise 87 is correct.\")"
      ],
      "metadata": {
        "id": "v6Jf6vhNZO0C"
      },
      "execution_count": null,
      "outputs": []
    },
    {
      "cell_type": "code",
      "source": [
        "# Exercise 10\n",
        "# update the price of the book to be 50\n",
        "book = {\n",
        "    \"title\": \"Genetic Algorithms and Machine Learning for Programmers\",\n",
        "    \"price\": 36.99,\n",
        "    \"author\": \"Frances Buontempo\"\n",
        "}\n",
        "\n",
        "assert book[\"price\"] == 50\n",
        "print(\"Exercise 89 is complete.\")"
      ],
      "metadata": {
        "id": "QRMQaaZwZfbQ"
      },
      "execution_count": null,
      "outputs": []
    },
    {
      "cell_type": "code",
      "source": [
        "# Exercise 11\n",
        "# add a new dictionary key called \"stock\" that has a value of 20\n",
        "book = {\n",
        "    \"title\": \"Genetic Algorithms and Machine Learning for Programmers\",\n",
        "    \"price\": 36.99,\n",
        "    \"author\": \"Frances Buontempo\"\n",
        "}\n",
        "\n",
        "assert book[\"stock\"] == 50\n",
        "print(\"Exercise 89 is complete.\")"
      ],
      "metadata": {
        "id": "0N206MuNZspz"
      },
      "execution_count": null,
      "outputs": []
    },
    {
      "cell_type": "markdown",
      "source": [
        "**Iteration**\n",
        "\n",
        "There are many scenarios where we might want to perform the same function multiple times. Instead of having to explicitly define every single time you perform the operation, there are ways to tell the computer to iteratively perform them using loops.\n",
        "\n",
        "There are two kinds of loops:\n",
        "\n",
        "For loops will iterate over a certain object. It will iteratively move through every element in an object. For example, in a list it will move through every object in that list.\n",
        "The basic format of a for loop is:\n",
        "\n",
        "for x in list:\n",
        "\n",
        "fun(x)\n",
        "\n",
        "While loops continue as long as the operator returns a True value - keep in mind this can be problematic because if the condition is never reached the loop will never end. You can stop this by interrupting the runtime.\n",
        "\n",
        "The basic format of a while loop is:\n",
        "\n",
        "x = 0\n",
        "\n",
        "while x < 3:\n",
        "\n",
        "x = x + 1\n",
        "\n",
        "\n"
      ],
      "metadata": {
        "id": "H5Rp35s4C2tJ"
      }
    },
    {
      "cell_type": "code",
      "source": [
        "# Example\n",
        "print(2)\n",
        "print(4)\n",
        "print(6)\n",
        "print(8)\n",
        "print(10)"
      ],
      "metadata": {
        "id": "luFkMcsvUvRy"
      },
      "execution_count": null,
      "outputs": []
    },
    {
      "cell_type": "code",
      "source": [
        "# to quickly get a list of numbers we can use the range function\n",
        "# The format for using the range function is range(start,stop,step)\n",
        "# range is equivalent to the seq function in R\n",
        "# if you only put in one argument that argument will default as the stop argument\n",
        "for i in range(11):\n",
        "  print(i)"
      ],
      "metadata": {
        "colab": {
          "base_uri": "https://localhost:8080/"
        },
        "id": "5r0Qi7irUkiW",
        "outputId": "7af03975-5cd3-4cfe-d7a3-4a81e265b354"
      },
      "execution_count": null,
      "outputs": [
        {
          "output_type": "stream",
          "name": "stdout",
          "text": [
            "0\n",
            "1\n",
            "2\n",
            "3\n",
            "4\n",
            "5\n",
            "6\n",
            "7\n",
            "8\n",
            "9\n",
            "10\n"
          ]
        }
      ]
    },
    {
      "cell_type": "code",
      "source": [
        "# if you only put in two arguments in the first argument will default as the start argument the second will be the stop\n",
        "for i in range(2,11):\n",
        "  print(i)"
      ],
      "metadata": {
        "colab": {
          "base_uri": "https://localhost:8080/"
        },
        "id": "APNvHSLbxpll",
        "outputId": "8be7a405-85ab-4726-a2c1-69974c307dcc"
      },
      "execution_count": null,
      "outputs": [
        {
          "output_type": "stream",
          "name": "stdout",
          "text": [
            "2\n",
            "3\n",
            "4\n",
            "5\n",
            "6\n",
            "7\n",
            "8\n",
            "9\n",
            "10\n"
          ]
        }
      ]
    },
    {
      "cell_type": "code",
      "source": [
        "# to demonstrate how you could use the range function to get different values\n",
        "# Putting in 3 values to define the beginning, end, and step of the range.\n",
        "for i in range(2,11,2):\n",
        "  print(i)\n"
      ],
      "metadata": {
        "colab": {
          "base_uri": "https://localhost:8080/"
        },
        "id": "zkGm_OLVUruN",
        "outputId": "014b415a-cce6-4dbf-e2ca-629c2a531b57"
      },
      "execution_count": null,
      "outputs": [
        {
          "output_type": "stream",
          "name": "stdout",
          "text": [
            "2\n",
            "4\n",
            "6\n",
            "8\n",
            "10\n"
          ]
        }
      ]
    },
    {
      "cell_type": "code",
      "source": [
        "for i in \"apple\": # you can also iterate through lists and tuples and strings\n",
        "  print(i)\n"
      ],
      "metadata": {
        "id": "SYJrsfhdUsqq"
      },
      "execution_count": null,
      "outputs": []
    },
    {
      "cell_type": "code",
      "source": [
        "for i in list1:\n",
        "  print(i)"
      ],
      "metadata": {
        "id": "yF6F-kdxUtn1"
      },
      "execution_count": null,
      "outputs": []
    },
    {
      "cell_type": "code",
      "source": [
        "\n",
        "# Lets say for example you want to multiply the value of every element of a list by 2\n",
        "\n",
        "my_integers = [1, 2, 3, 4, 5]\n",
        "\n",
        "my_integers[0] *= 2\n",
        "my_integers[1] *= 2\n",
        "my_integers[2] *= 2\n",
        "my_integers[3] *= 2\n",
        "my_integers[4] *= 2\n",
        "\n",
        "my_integers\n"
      ],
      "metadata": {
        "colab": {
          "base_uri": "https://localhost:8080/"
        },
        "id": "GeSFRmQgkTOP",
        "outputId": "4d10c44b-3597-4f14-bf9a-9236b325e569"
      },
      "execution_count": null,
      "outputs": [
        {
          "output_type": "execute_result",
          "data": {
            "text/plain": [
              "[2, 4, 6, 8, 10]"
            ]
          },
          "metadata": {},
          "execution_count": 2
        }
      ]
    },
    {
      "cell_type": "code",
      "source": [
        "my_integers = [1, 2, 3, 4, 5]\n",
        "\n",
        "# we can instead make a for loop to edit every part of the list\n",
        "\n",
        "for i in range(len(my_integers)):\n",
        "    my_integers[i] *= 2\n",
        "\n",
        "my_integers"
      ],
      "metadata": {
        "colab": {
          "base_uri": "https://localhost:8080/"
        },
        "id": "qiWQNJ5-kTQk",
        "outputId": "10d65358-53cc-4a1b-db81-09ff4514156d"
      },
      "execution_count": null,
      "outputs": [
        {
          "output_type": "execute_result",
          "data": {
            "text/plain": [
              "[2, 4, 6, 8, 10]"
            ]
          },
          "metadata": {},
          "execution_count": 9
        }
      ]
    },
    {
      "cell_type": "code",
      "source": [
        "# there is also a special iteration formatting you can do just for lists to make new lists\n",
        "# this is called list comprehension\n",
        "# The basic format is [x for x in list]\n",
        "my_integers = [1, 2, 3, 4, 5]\n",
        "my_integers = [x * 2 for x in my_integers]\n",
        "my_integers"
      ],
      "metadata": {
        "colab": {
          "base_uri": "https://localhost:8080/"
        },
        "id": "HHbX5o0US1al",
        "outputId": "bcbe9cf6-ab7f-4b5b-91e8-ed79361e994b"
      },
      "execution_count": null,
      "outputs": [
        {
          "output_type": "execute_result",
          "data": {
            "text/plain": [
              "[2, 4, 6, 8, 10]"
            ]
          },
          "metadata": {},
          "execution_count": 10
        }
      ]
    },
    {
      "cell_type": "code",
      "source": [
        "# While loops\n",
        "# Continue until the operator evaluates as false\n",
        "\n",
        "i = 2\n",
        "while i < 10000:\n",
        "  i *= 2\n",
        "  print(i)"
      ],
      "metadata": {
        "colab": {
          "base_uri": "https://localhost:8080/"
        },
        "id": "limAVG-Iro0s",
        "outputId": "9c1f2ac0-c6a8-447d-f2a6-dffb843d6cf6"
      },
      "execution_count": null,
      "outputs": [
        {
          "output_type": "stream",
          "name": "stdout",
          "text": [
            "4\n",
            "8\n",
            "16\n",
            "32\n",
            "64\n",
            "128\n",
            "256\n",
            "512\n",
            "1024\n",
            "2048\n",
            "4096\n",
            "8192\n",
            "16384\n"
          ]
        }
      ]
    },
    {
      "cell_type": "code",
      "source": [
        "# make sure that your loops are not infinite loops\n",
        "i = 10\n",
        "while i < 0:\n",
        "  i *= 2\n",
        "  print(i)"
      ],
      "metadata": {
        "id": "87cHKgSuyzDk"
      },
      "execution_count": null,
      "outputs": []
    },
    {
      "cell_type": "code",
      "source": [
        "# You can also combine many of the features above into nested lists and operations\n",
        "\n",
        "seq = 'GACAGACUCCAUGCACGUGGGUAUGUGUC'\n",
        "\n",
        "# Initialize GC counter\n",
        "n_gc = 0\n",
        "\n",
        "# Loop through sequence and count G's and C's\n",
        "for base in seq:\n",
        "    if base == 'G' or base == 'C':\n",
        "        n_gc += 1\n",
        "n_gc\n"
      ],
      "metadata": {
        "colab": {
          "base_uri": "https://localhost:8080/"
        },
        "id": "4HSZfxXizgI1",
        "outputId": "f7c2d914-6b34-4743-ad1a-518efa7cd120"
      },
      "execution_count": null,
      "outputs": [
        {
          "output_type": "execute_result",
          "data": {
            "text/plain": [
              "16"
            ]
          },
          "metadata": {},
          "execution_count": 7
        }
      ]
    },
    {
      "cell_type": "code",
      "source": [
        "# Another way you might achieve the same output in a different manner\n",
        "seq = 'GACAGACUCCAUGCACGUGGGUAUGUGUC'\n",
        "seq = list(seq)\n",
        "print(seq)\n",
        "seq = [1 for base in seq if base == \"G\" or base == \"C\"]\n",
        "print(seq)\n",
        "print(sum(seq))"
      ],
      "metadata": {
        "colab": {
          "base_uri": "https://localhost:8080/"
        },
        "id": "ftpn0QFe1-6w",
        "outputId": "90379872-dec1-496e-bfbf-b5b965771b18"
      },
      "execution_count": null,
      "outputs": [
        {
          "output_type": "stream",
          "name": "stdout",
          "text": [
            "['G', 'A', 'C', 'A', 'G', 'A', 'C', 'U', 'C', 'C', 'A', 'U', 'G', 'C', 'A', 'C', 'G', 'U', 'G', 'G', 'G', 'U', 'A', 'U', 'G', 'U', 'G', 'U', 'C']\n",
            "[1, 1, 1, 1, 1, 1, 1, 1, 1, 1, 1, 1, 1, 1, 1, 1]\n",
            "16\n"
          ]
        }
      ]
    },
    {
      "cell_type": "code",
      "source": [
        "# Another way you might achieve the same output in a different manner\n",
        "seq = 'GACAGACUCCAUGCACGUGGGUAUGUGUC'\n",
        "seq = seq.replace('A', '')\n",
        "seq = seq.replace('U', '')\n",
        "len(seq)"
      ],
      "metadata": {
        "colab": {
          "base_uri": "https://localhost:8080/"
        },
        "id": "HPH11IDE04EI",
        "outputId": "1a56871b-9407-4546-ce14-c193c90c3fa8"
      },
      "execution_count": null,
      "outputs": [
        {
          "output_type": "execute_result",
          "data": {
            "text/plain": [
              "16"
            ]
          },
          "metadata": {},
          "execution_count": 8
        }
      ]
    },
    {
      "cell_type": "code",
      "source": [
        "# Additionally you can use the key words continue or break to add more complexity to your code\n",
        "# Break tells the loop that you are in to terminate while continue tells the loop to move to the next iterable"
      ],
      "metadata": {
        "id": "xWR6oMmTd3BE"
      },
      "execution_count": null,
      "outputs": []
    },
    {
      "cell_type": "code",
      "source": [
        "# You can also combine many of the features above into nested lists and operations\n",
        "\n",
        "seq = 'GACAGACUCCAUGCACGUGGGUAUCUGUC'\n",
        "\n",
        "# Loop through sequence and count G's and C's\n",
        "for i in range(len(seq)):\n",
        "    codon = seq[i:i+3]\n",
        "    if codon == \"AUG\":\n",
        "        start_codon = i\n",
        "        break\n",
        "start_codon"
      ],
      "metadata": {
        "colab": {
          "base_uri": "https://localhost:8080/"
        },
        "id": "E11q7jMigu_r",
        "outputId": "ece0a4df-8abf-410c-a26c-f4b3952b434a"
      },
      "execution_count": null,
      "outputs": [
        {
          "output_type": "execute_result",
          "data": {
            "text/plain": [
              "10"
            ]
          },
          "metadata": {},
          "execution_count": 17
        }
      ]
    },
    {
      "cell_type": "code",
      "source": [
        "nums = [1,2,3.1,4.3,5.9,6,7]\n",
        "\n",
        "for i in range(len(nums)):\n",
        "  if type(nums[i]) == int:\n",
        "    continue\n",
        "  else:\n",
        "    nums[i] = int(nums[i])\n",
        "nums\n",
        "\n"
      ],
      "metadata": {
        "colab": {
          "base_uri": "https://localhost:8080/"
        },
        "id": "xwPWaSvnd3DG",
        "outputId": "299abf22-4b70-438d-99ce-4a800fe31cd9"
      },
      "execution_count": null,
      "outputs": [
        {
          "output_type": "execute_result",
          "data": {
            "text/plain": [
              "[1, 2, 3, 4, 5, 6, 7]"
            ]
          },
          "metadata": {},
          "execution_count": 38
        }
      ]
    },
    {
      "cell_type": "code",
      "source": [
        "# Exercise 1\n",
        "# convert this into a loop\n",
        "\n",
        "print(3)\n",
        "print(6)\n",
        "print(9)\n",
        "print(12)\n",
        "print(15)\n",
        "print(18)"
      ],
      "metadata": {
        "colab": {
          "base_uri": "https://localhost:8080/"
        },
        "id": "nCizxGj4b4rA",
        "outputId": "2693b92f-fc50-4cdc-8803-15ab1a295f2b"
      },
      "execution_count": 7,
      "outputs": [
        {
          "output_type": "stream",
          "name": "stdout",
          "text": [
            "3\n",
            "3\n",
            "3\n",
            "3\n",
            "3\n"
          ]
        }
      ]
    },
    {
      "cell_type": "code",
      "source": [
        "# Exercise 2\n",
        "# make a loop that iterates through and prints every element of this list\n",
        "\n",
        "fruits_and_veggies = ['tomato', 'strawberry', 'mango', 'kiwi', 'guava', 'banana', 'broccoli', 'carrot', 'cauliflower', 'eggplant', 'tomato', 'zucchini']\n"
      ],
      "metadata": {
        "id": "wAr6UeQobPUl"
      },
      "execution_count": null,
      "outputs": []
    },
    {
      "cell_type": "code",
      "source": [
        "# Exercise 3\n",
        "# make a loop that iterates through this list and adds any elements that start with c or k to a new list\n",
        "\n",
        "fruits_and_veggies = ['tomato', 'strawberry', 'mango', 'kiwi', 'guava', 'banana', 'broccoli', 'carrot', 'cauliflower', 'eggplant', 'tomato', 'zucchini']\n",
        "\n",
        "assert new_list = [\"carrot\", \"cauliflower\"]\n",
        "\n",
        "print(\"Exercise 3 is complete.\")\n"
      ],
      "metadata": {
        "id": "kjz-gIiJbgw_"
      },
      "execution_count": null,
      "outputs": []
    },
    {
      "cell_type": "code",
      "source": [
        "# Exercise 4\n",
        "# make a while loop that continues to iterate until becomes larger than 1000\n",
        "x = 4\n",
        "\n",
        "assert x > 10000\n",
        "\n",
        "print(\"Exercise 4 is complete.\")"
      ],
      "metadata": {
        "id": "kKvJWpNsb1_9"
      },
      "execution_count": null,
      "outputs": []
    },
    {
      "cell_type": "code",
      "source": [
        "# functions\n",
        "# In python you can define your own functions like this:\n",
        "def plus_2(x):\n",
        "  \"\"\"prints 2 plus the input number x\"\"\"\n",
        "  print(x + 2)\n",
        "help(plus_2)"
      ],
      "metadata": {
        "colab": {
          "base_uri": "https://localhost:8080/"
        },
        "id": "JOEU0p28CxG5",
        "outputId": "81ea564f-e6d1-44d9-8ef9-01d0569becd9"
      },
      "execution_count": null,
      "outputs": [
        {
          "output_type": "stream",
          "name": "stdout",
          "text": [
            "Help on function plus_2 in module __main__:\n",
            "\n",
            "plus_2(x)\n",
            "    prints 2 plus the input number x\n",
            "\n"
          ]
        }
      ]
    },
    {
      "cell_type": "code",
      "source": [
        "number = 2\n",
        "plus_2(number)"
      ],
      "metadata": {
        "colab": {
          "base_uri": "https://localhost:8080/"
        },
        "id": "0EORio4U3tGV",
        "outputId": "1b1ac683-5f4b-44e4-cc40-f7e0e22769a9"
      },
      "execution_count": null,
      "outputs": [
        {
          "output_type": "stream",
          "name": "stdout",
          "text": [
            "4\n"
          ]
        }
      ]
    },
    {
      "cell_type": "code",
      "source": [
        "x = plus_2(number)\n",
        "print(x)"
      ],
      "metadata": {
        "colab": {
          "base_uri": "https://localhost:8080/"
        },
        "id": "KwfkjXn14AGZ",
        "outputId": "d4f4aed9-48f0-44f8-aa29-861d7f55e7d5"
      },
      "execution_count": null,
      "outputs": [
        {
          "output_type": "stream",
          "name": "stdout",
          "text": [
            "4\n"
          ]
        }
      ]
    },
    {
      "cell_type": "code",
      "source": [
        "# if you want to make a function that gives you an output that you can assign to a variable you need to use return\n",
        "def plus_2(x):\n",
        "  \"\"\"Adds 2 to the input number x and then returns that value\"\"\"\n",
        "  return x + 2\n"
      ],
      "metadata": {
        "id": "zaDWXPem4J_X"
      },
      "execution_count": null,
      "outputs": []
    },
    {
      "cell_type": "code",
      "source": [
        "x = plus_2(number)\n",
        "print(x)"
      ],
      "metadata": {
        "colab": {
          "base_uri": "https://localhost:8080/"
        },
        "id": "g7fZOwH-46pl",
        "outputId": "7086b7a6-a742-4c32-e651-a98559690670"
      },
      "execution_count": null,
      "outputs": [
        {
          "output_type": "stream",
          "name": "stdout",
          "text": [
            "4\n"
          ]
        }
      ]
    },
    {
      "cell_type": "code",
      "source": [
        "x = plus_2(\"2\")\n",
        "print(x)"
      ],
      "metadata": {
        "colab": {
          "base_uri": "https://localhost:8080/",
          "height": 287
        },
        "id": "X1FbWuTT49fI",
        "outputId": "789969eb-dc09-4ab5-c591-fb95df43798a"
      },
      "execution_count": null,
      "outputs": [
        {
          "output_type": "error",
          "ename": "TypeError",
          "evalue": "can only concatenate str (not \"int\") to str",
          "traceback": [
            "\u001b[0;31m---------------------------------------------------------------------------\u001b[0m",
            "\u001b[0;31mTypeError\u001b[0m                                 Traceback (most recent call last)",
            "\u001b[0;32m<ipython-input-53-a57d4141cd32>\u001b[0m in \u001b[0;36m<cell line: 1>\u001b[0;34m()\u001b[0m\n\u001b[0;32m----> 1\u001b[0;31m \u001b[0mx\u001b[0m \u001b[0;34m=\u001b[0m \u001b[0mplus_2\u001b[0m\u001b[0;34m(\u001b[0m\u001b[0;34m\"2\"\u001b[0m\u001b[0;34m)\u001b[0m\u001b[0;34m\u001b[0m\u001b[0;34m\u001b[0m\u001b[0m\n\u001b[0m\u001b[1;32m      2\u001b[0m \u001b[0mprint\u001b[0m\u001b[0;34m(\u001b[0m\u001b[0mx\u001b[0m\u001b[0;34m)\u001b[0m\u001b[0;34m\u001b[0m\u001b[0;34m\u001b[0m\u001b[0m\n",
            "\u001b[0;32m<ipython-input-50-b33b52bcb31f>\u001b[0m in \u001b[0;36mplus_2\u001b[0;34m(x)\u001b[0m\n\u001b[1;32m      2\u001b[0m \u001b[0;32mdef\u001b[0m \u001b[0mplus_2\u001b[0m\u001b[0;34m(\u001b[0m\u001b[0mx\u001b[0m\u001b[0;34m)\u001b[0m\u001b[0;34m:\u001b[0m\u001b[0;34m\u001b[0m\u001b[0;34m\u001b[0m\u001b[0m\n\u001b[1;32m      3\u001b[0m   \u001b[0;34m\"\"\"Adds 2 to the input number x and then returns that value\"\"\"\u001b[0m\u001b[0;34m\u001b[0m\u001b[0;34m\u001b[0m\u001b[0m\n\u001b[0;32m----> 4\u001b[0;31m   \u001b[0;32mreturn\u001b[0m \u001b[0mx\u001b[0m \u001b[0;34m+\u001b[0m \u001b[0;36m2\u001b[0m\u001b[0;34m\u001b[0m\u001b[0;34m\u001b[0m\u001b[0m\n\u001b[0m\u001b[1;32m      5\u001b[0m \u001b[0;34m\u001b[0m\u001b[0m\n\u001b[1;32m      6\u001b[0m \u001b[0;34m\u001b[0m\u001b[0m\n",
            "\u001b[0;31mTypeError\u001b[0m: can only concatenate str (not \"int\") to str"
          ]
        }
      ]
    },
    {
      "cell_type": "code",
      "source": [
        "def plus_2(x):\n",
        "  \"\"\"Adds 2 to the input number x and then returns that value\n",
        "  x must be an integer or a float\n",
        "  \"\"\"\n",
        "  if type(x) == str:\n",
        "      print(\"Error, input must be a integer or float\")\n",
        "      return\n",
        "  return x + 2"
      ],
      "metadata": {
        "id": "LXE9VSr44_wc"
      },
      "execution_count": null,
      "outputs": []
    },
    {
      "cell_type": "code",
      "source": [
        "x = plus_2(\"2\")\n",
        "print(x)"
      ],
      "metadata": {
        "colab": {
          "base_uri": "https://localhost:8080/"
        },
        "id": "j99i9rhj52Lh",
        "outputId": "059a80b6-e40b-41e5-b258-8934d4b014c8"
      },
      "execution_count": null,
      "outputs": [
        {
          "output_type": "stream",
          "name": "stdout",
          "text": [
            "Error, input must be a integer or float\n",
            "None\n"
          ]
        }
      ]
    },
    {
      "cell_type": "code",
      "source": [
        "def plus_y(x, y):\n",
        "  \"\"\"Adds y to the input number x and then returns that value\n",
        "  x and y must be an integer or a float\n",
        "  \"\"\"\n",
        "  if type(x) == str or type(y) == str:\n",
        "      print(\"Error, both inputs must be integers and/or floats\")\n",
        "      return\n",
        "  return x + y"
      ],
      "metadata": {
        "id": "gHqwMhfy6Aau"
      },
      "execution_count": null,
      "outputs": []
    },
    {
      "cell_type": "code",
      "source": [
        "x = plus_y(3, 3)\n",
        "print(x)"
      ],
      "metadata": {
        "colab": {
          "base_uri": "https://localhost:8080/"
        },
        "id": "JgMM9C_K6AfF",
        "outputId": "2a13a2b6-4033-4cce-d4bd-8b649be80f9d"
      },
      "execution_count": null,
      "outputs": [
        {
          "output_type": "stream",
          "name": "stdout",
          "text": [
            "6\n"
          ]
        }
      ]
    },
    {
      "cell_type": "code",
      "source": [
        "x = plus_y(y = 3, x = 3)\n",
        "print(x)"
      ],
      "metadata": {
        "colab": {
          "base_uri": "https://localhost:8080/"
        },
        "id": "DjyUU2bp6ZGh",
        "outputId": "a1d49639-aad5-4a38-a0ba-0694ebc37d9c"
      },
      "execution_count": null,
      "outputs": [
        {
          "output_type": "stream",
          "name": "stdout",
          "text": [
            "6\n"
          ]
        }
      ]
    },
    {
      "cell_type": "code",
      "source": [
        "def plus_y(x, y):\n",
        "  \"\"\"Adds y to the input number x and then returns that value\n",
        "  x and y must be an integer or a float\n",
        "  \"\"\"\n",
        "  if type(x) == str or type(y) == str:\n",
        "      print(\"Error, both inputs must be integers and/or floats\")\n",
        "      return\n",
        "  return x + y, y\n"
      ],
      "metadata": {
        "id": "g7tvzqEU6cqo"
      },
      "execution_count": null,
      "outputs": []
    },
    {
      "cell_type": "code",
      "source": [
        "x = plus_y(y = 3, x = 3) # if you have multiple outputs it will return them as a tuple\n",
        "print(x)"
      ],
      "metadata": {
        "colab": {
          "base_uri": "https://localhost:8080/"
        },
        "id": "7gl3QTIH6gTu",
        "outputId": "74da28c0-e42b-4242-e30d-4f72eefe1e8b"
      },
      "execution_count": null,
      "outputs": [
        {
          "output_type": "stream",
          "name": "stdout",
          "text": [
            "(6, 3)\n"
          ]
        }
      ]
    },
    {
      "cell_type": "code",
      "source": [
        "z,a = plus_y(y = 3, x = 3) # you can \"unpack\" them by assigning it to multiple variables at once\n",
        "print(z)\n",
        "print(a)"
      ],
      "metadata": {
        "colab": {
          "base_uri": "https://localhost:8080/"
        },
        "id": "_KzML03S6iTE",
        "outputId": "d494d44e-3417-490a-abe7-04a975b47b93"
      },
      "execution_count": null,
      "outputs": [
        {
          "output_type": "stream",
          "name": "stdout",
          "text": [
            "6\n",
            "3\n"
          ]
        }
      ]
    },
    {
      "cell_type": "code",
      "source": [
        "# Run this cell in order to generate some numbers to use in our functions after this.\n",
        "import random\n",
        "\n",
        "positive_even_number = random.randrange(2, 101, 2)\n",
        "negative_even_number = random.randrange(-100, -1, 2)\n",
        "\n",
        "positive_odd_number = random.randrange(1, 100, 2)\n",
        "negative_odd_number = random.randrange(-101, 0, 2)\n",
        "print(\"We now have some random numbers available for future exercises.\")\n",
        "print(\"The random positive even number is\", positive_even_number)\n",
        "print(\"The random positive odd nubmer is\", positive_odd_number)\n",
        "print(\"The random negative even number\", negative_even_number)\n",
        "print(\"The random negative odd number\", negative_odd_number)"
      ],
      "metadata": {
        "colab": {
          "base_uri": "https://localhost:8080/"
        },
        "id": "a-8zrvE_cWhE",
        "outputId": "d15b56ce-2e6f-46a8-b35a-2f778d968b4a"
      },
      "execution_count": 8,
      "outputs": [
        {
          "output_type": "stream",
          "name": "stdout",
          "text": [
            "We now have some random numbers available for future exercises.\n",
            "The random positive even number is 78\n",
            "The random positive odd nubmer is 91\n",
            "The random negative even number -70\n",
            "The random negative odd number -41\n"
          ]
        }
      ]
    },
    {
      "cell_type": "code",
      "source": [
        "# Exercise 1\n",
        "# Write a function definition for a function named add_one that takes in a number and returns that number plus one.\n",
        "\n",
        "\n",
        "assert add_one(2) == 3, \"Ensure that the function is defined, named properly, and returns the correct value\"\n",
        "assert add_one(0) == 1, \"Zero plus one is one.\"\n",
        "assert add_one(positive_even_number) == positive_even_number + 1, \"Ensure that the function is defined, named properly, and returns the correct value\"\n",
        "assert add_one(negative_odd_number) == negative_odd_number + 1, \"Ensure that the function is defined, named properly, and returns the correct value\"\n",
        "print(\"Exercise 1 is correct.\")"
      ],
      "metadata": {
        "id": "LjRAhu8WmQDc"
      },
      "execution_count": null,
      "outputs": []
    },
    {
      "cell_type": "code",
      "source": [
        "# Exercise 2\n",
        "# Write a function definition named is_positive that takes in a number and returns True or False if that number is positive.\n",
        "\n",
        "assert is_positive(positive_odd_number) == True, \"Ensure that the function is defined, named properly, and returns the correct value\"\n",
        "assert is_positive(positive_even_number) == True, \"Ensure that the function is defined, named properly, and returns the correct value\"\n",
        "assert is_positive(negative_odd_number) == False, \"Ensure that the function is defined, named properly, and returns the correct value\"\n",
        "assert is_positive(negative_even_number) == False, \"Ensure that the function is defined, named properly, and returns the correct value\"\n",
        "assert is_positive(0) == False, \"Zero is not a positive number.\"\n",
        "print(\"Exercise 2 is correct.\")"
      ],
      "metadata": {
        "id": "JJrpPhUdmaBl"
      },
      "execution_count": null,
      "outputs": []
    },
    {
      "cell_type": "code",
      "source": [
        "# Exercise 3\n",
        "# Write a function definition named is_even that takes in a number and returns True or False if that number is even.\n",
        "\n",
        "assert is_even(2) == True, \"Ensure that the function is defined, named properly, and returns the correct value\"\n",
        "assert is_even(positive_odd_number) == False, \"Ensure that the function is defined, named properly, and returns the correct value\"\n",
        "assert is_even(positive_even_number) == True, \"Ensure that the function is defined, named properly, and returns the correct value\"\n",
        "assert is_even(negative_odd_number) == False, \"Ensure that the function is defined, named properly, and returns the correct value\"\n",
        "assert is_even(negative_even_number) == True, \"Ensure that the function is defined, named properly, and returns the correct value\"\n",
        "print(\"Exercise 3 is correct.\")"
      ],
      "metadata": {
        "id": "KHmijOFPmfaG"
      },
      "execution_count": null,
      "outputs": []
    },
    {
      "cell_type": "code",
      "source": [
        "# Exercise 4\n",
        "# Write a function definition named is_negative_even that takes in a number and returns True or False if the value is both less than zero and even.\n",
        "\n",
        "assert is_negative_even(-4) == True, \"Double check your syntax and logic\"\n",
        "assert is_negative_even(positive_odd_number) == False, \"Double check your syntax and logic\"\n",
        "assert is_negative_even(positive_even_number) == False, \"Double check your syntax and logic\"\n",
        "assert is_negative_even(negative_odd_number) == False, \"Double check your syntax and logic\"\n",
        "assert is_negative_even(negative_even_number) == True, \"Double check your syntax and logic\"\n",
        "print(\"Exercise 4 is correct.\")"
      ],
      "metadata": {
        "id": "hT_UGFhomoXA"
      },
      "execution_count": null,
      "outputs": []
    },
    {
      "cell_type": "code",
      "source": [
        "# Exercise 5\n",
        "# Write a function definition named triple that takes in a number and returns triple the provided number.\n",
        "\n",
        "assert triple(4) == 12\n",
        "assert triple(5) == 15\n",
        "assert triple(positive_odd_number) == positive_odd_number * 3\n",
        "assert triple(positive_even_number) == positive_even_number * 3\n",
        "assert triple(negative_odd_number) == negative_odd_number * 3\n",
        "assert triple(negative_even_number) == negative_even_number * 3\n",
        "print(\"Exercise 5 is correct.\")"
      ],
      "metadata": {
        "id": "uTXq8F5pmsKQ"
      },
      "execution_count": null,
      "outputs": []
    },
    {
      "cell_type": "code",
      "source": [
        "# Exercise 6\n",
        "# Write a function definition named reverse_sign that takes in a number and returns the provided number but with the sign reversed.\n",
        "\n",
        "assert reverse_sign(4) == -4\n",
        "assert reverse_sign(-5) == 5\n",
        "assert reverse_sign(positive_odd_number) == positive_odd_number * -1\n",
        "assert reverse_sign(positive_even_number) == positive_even_number * -1\n",
        "assert reverse_sign(negative_odd_number) == negative_odd_number * -1\n",
        "assert reverse_sign(negative_even_number) == negative_even_number * -1\n",
        "print(\"Exercise 6 is correct.\")"
      ],
      "metadata": {
        "id": "WcA-D1bgm0m1"
      },
      "execution_count": null,
      "outputs": []
    },
    {
      "cell_type": "code",
      "source": [
        "# Exercise 7\n",
        "# Write a function definition named is_multiple_of_both_three_and_five that takes in a number and returns True or False if the number is evenly divisible by both 3 and 5.\n",
        "\n",
        "assert is_multiple_of_both_three_and_five(15) == True\n",
        "assert is_multiple_of_both_three_and_five(45) == True\n",
        "assert is_multiple_of_both_three_and_five(3) == False\n",
        "assert is_multiple_of_both_three_and_five(9) == False\n",
        "assert is_multiple_of_both_three_and_five(4) == False\n",
        "print(\"Exercise 7 is correct.\")"
      ],
      "metadata": {
        "id": "_r_HZMn6m3eK"
      },
      "execution_count": null,
      "outputs": []
    },
    {
      "cell_type": "code",
      "source": [
        "# Exercise 8\n",
        "# Write a function definition named divide that takes in two numbers and returns the first argument divided by the second argument.\n",
        "\n",
        "assert divide(27, 9) == 3\n",
        "assert divide(15, 3) == 5\n",
        "assert divide(5, 2) == 2.5\n",
        "assert divide(10, 2) == 5\n",
        "print(\"Exercise 8 is correct.\")"
      ],
      "metadata": {
        "id": "xCfsOirrm-kS"
      },
      "execution_count": null,
      "outputs": []
    },
    {
      "cell_type": "code",
      "source": [
        "# Exercise 9\n",
        "# Write a function definition named remove_vowels that takes in string and returns the string without any vowels\n",
        "\n",
        "assert remove_vowels(\"banana\") == \"bnn\"\n",
        "assert remove_vowels(\"ubuntu\") == \"bnt\"\n",
        "assert remove_vowels(\"mango\") == \"mng\"\n",
        "assert remove_vowels(\"QQQQ\") == \"QQQQ\"\n",
        "print(\"Exercise 9 is correct.\")"
      ],
      "metadata": {
        "id": "dE6RtvRLnFka"
      },
      "execution_count": null,
      "outputs": []
    },
    {
      "cell_type": "code",
      "source": [
        "# Exercise 10\n",
        "# Write a function definition named starts_and_ends_with_vowel that takes in string and returns True if the string starts and ends with a vowel\n",
        "\n",
        "assert starts_and_ends_with_vowel(\"ubuntu\") == True\n",
        "assert starts_and_ends_with_vowel(\"banana\") == False\n",
        "assert starts_and_ends_with_vowel(\"mango\") == False\n",
        "print(\"Exercise 10 is correct.\")"
      ],
      "metadata": {
        "id": "U8spO1dYnRcx"
      },
      "execution_count": null,
      "outputs": []
    },
    {
      "cell_type": "markdown",
      "source": [
        "**Reading and Writing Files**\n",
        "\n",
        "Note, there are much easier ways to do this with some special functions in packages. For example, you can easily save any pandas data frame using the df.to_csv() function. What you are seeing here, however is the default way to manipulate files in python.\n",
        "\n",
        "\n",
        "This is achieved using a \"with open as\" statement:\n",
        "\n",
        "the basic format is\n",
        "\n",
        "with open(filename, mode) as f:\n",
        "\n",
        "the variable mode can be \"r\", \"w\", \"r+\", or \"a\" which stand for:\n",
        "\n",
        "\"r\" - open file for reading only\n",
        "\n",
        "\"w\" - writing only, if the file does not exist it will create one. if the file exists, it will delete what was in it.\n",
        "\n",
        "\"r+\" - reading or writing, allows you to write in a file that is already created. starts at beginning of the file\n",
        "\n",
        "\"a\" - Open for reading and writing.  The file is created if it does not exist.  The stream is positioned at the end of the file.\n",
        "\n",
        "here, we will mainly use w.\n",
        "\n",
        "However this is how you would obtain the contents of a file\n",
        "\n",
        "with open(filename, r) as f:\n",
        "\n",
        "f_string = f.read()\n",
        "\n",
        "with open(filename, r) as f:\n",
        "\n",
        "f_list = f.readlines()\n",
        "\n",
        "\n",
        "This is how you would write in the contents of a file\n",
        "\n",
        "with open(filename, w) as f:\n",
        "\n",
        "f.write(string)\n",
        "\n",
        "f.write(string)\n",
        "\n",
        "f.write(string)"
      ],
      "metadata": {
        "id": "r4ogPD6V7evH"
      }
    },
    {
      "cell_type": "code",
      "source": [
        "# Making a file\n",
        "with open('test_file.txt', 'w') as f:\n",
        "  f.write(\"Hello World\")\n"
      ],
      "metadata": {
        "id": "40zjoHhYww5l"
      },
      "execution_count": null,
      "outputs": []
    },
    {
      "cell_type": "code",
      "source": [
        "# you cannot use w to update a file\n",
        "with open('test_file.txt', 'w') as f:\n",
        "  f.write(f\"My name is {name}\")"
      ],
      "metadata": {
        "id": "DiZv2YW-xdpo"
      },
      "execution_count": null,
      "outputs": []
    },
    {
      "cell_type": "code",
      "source": [
        "# lets remake the file\n",
        "with open('test_file.txt', 'w') as f:\n",
        "  f.write(\"Hello World\")\n"
      ],
      "metadata": {
        "id": "2JtJMrsFx9zb"
      },
      "execution_count": null,
      "outputs": []
    },
    {
      "cell_type": "code",
      "source": [
        "# you cannot use a to add text to the end of the file\n",
        "with open('test_file.txt', 'a') as f:\n",
        "  f.write(f\"My name is {name}\")"
      ],
      "metadata": {
        "id": "aC9xHbMXx95K"
      },
      "execution_count": null,
      "outputs": []
    },
    {
      "cell_type": "code",
      "source": [
        "# However, you need to explicitly specify a change in line\n",
        "with open('test_file.txt', 'a') as f:\n",
        "  f.write(f\"\\nMy name is {name}\")"
      ],
      "metadata": {
        "id": "QnFm7xetyGKN"
      },
      "execution_count": null,
      "outputs": []
    },
    {
      "cell_type": "code",
      "source": [
        "# Let's try again with both lines included\n",
        "with open('test_file.txt', 'w') as f:\n",
        "  f.write(\"Hello World\")\n",
        "  f.write(f\"My name is {name}\")"
      ],
      "metadata": {
        "id": "GHensPmaxorF"
      },
      "execution_count": null,
      "outputs": []
    },
    {
      "cell_type": "code",
      "source": [
        "# This also needs an explicit line break added\n",
        "with open('test_file.txt', 'w') as f:\n",
        "  f.write(\"Hello World\\n\")\n",
        "  f.write(f\"My name is {name}\")\n"
      ],
      "metadata": {
        "id": "yD1s5LgWxzwz"
      },
      "execution_count": null,
      "outputs": []
    },
    {
      "cell_type": "code",
      "source": [
        "# Saving data as a csv\n",
        "# csvs are text files where columns are separated by columns and rows are separated by line breaks\n",
        "# So, if you have data like this:\n",
        "data = {\n",
        "    \"treatment\": [\"A\" , \"A\", \"A\", \"A\" , \"A\", \"A\", \"A\" , \"A\", \"A\", \"B\", \"B\", \"B\", \"B\", \"B\", \"B\", \"B\", \"B\", \"B\", \"B\", \"B\", \"B\", \"B\", \"B\", \"B\"],\n",
        "     \"response\": [ 3, 15, 74, 93, 72, 64, 69, 31, 82,29, 52, 12, 88,  7, 81, 19, 76, 75, 44, 47, 94, 38, 84, 97]\n",
        "}\n"
      ],
      "metadata": {
        "id": "ZAWddYvBzLNq"
      },
      "execution_count": null,
      "outputs": []
    },
    {
      "cell_type": "code",
      "source": [
        "# We can make a function to save the data as a csv\n",
        "with open('dataset.csv', 'w') as f:\n",
        "  f.write(f\"treatment,response\\n\")\n",
        "  for i in range(len(data[\"response\"])):\n",
        "    trt = data[\"treatment\"][i]\n",
        "    resp = data[\"response\"][i]\n",
        "    f.write( f\"{trt},{resp}\\n\")\n",
        "\n"
      ],
      "metadata": {
        "id": "W45jJauIzLSQ"
      },
      "execution_count": null,
      "outputs": []
    },
    {
      "cell_type": "code",
      "source": [
        "with open('dataset.csv', 'r') as f:\n",
        "  f_str = f.read()\n",
        "f_str"
      ],
      "metadata": {
        "colab": {
          "base_uri": "https://localhost:8080/",
          "height": 53
        },
        "id": "9_6GVPy51c1M",
        "outputId": "5ae54a06-73e6-4ecb-c11b-ad2be4df269b"
      },
      "execution_count": null,
      "outputs": [
        {
          "output_type": "execute_result",
          "data": {
            "text/plain": [
              "'treatment,response\\nA,3\\nA,15\\nA,74\\nA,93\\nA,72\\nA,64\\nA,69\\nA,31\\nA,82\\nB,29\\nB,52\\nB,12\\nB,88\\nB,7\\nB,81\\nB,19\\nB,76\\nB,75\\nB,44\\nB,47\\nB,94\\nB,38\\nB,84\\nB,97\\n'"
            ],
            "application/vnd.google.colaboratory.intrinsic+json": {
              "type": "string"
            }
          },
          "metadata": {},
          "execution_count": 52
        }
      ]
    },
    {
      "cell_type": "code",
      "source": [
        "with open('dataset.csv', 'r') as f:\n",
        "  f_list = f.readlines()\n",
        "f_list"
      ],
      "metadata": {
        "colab": {
          "base_uri": "https://localhost:8080/"
        },
        "id": "b7PCJv6S11qo",
        "outputId": "e1a12763-82b9-4816-8185-47ee32b40e09"
      },
      "execution_count": null,
      "outputs": [
        {
          "output_type": "execute_result",
          "data": {
            "text/plain": [
              "['treatment,response\\n',\n",
              " 'A,3\\n',\n",
              " 'A,15\\n',\n",
              " 'A,74\\n',\n",
              " 'A,93\\n',\n",
              " 'A,72\\n',\n",
              " 'A,64\\n',\n",
              " 'A,69\\n',\n",
              " 'A,31\\n',\n",
              " 'A,82\\n',\n",
              " 'B,29\\n',\n",
              " 'B,52\\n',\n",
              " 'B,12\\n',\n",
              " 'B,88\\n',\n",
              " 'B,7\\n',\n",
              " 'B,81\\n',\n",
              " 'B,19\\n',\n",
              " 'B,76\\n',\n",
              " 'B,75\\n',\n",
              " 'B,44\\n',\n",
              " 'B,47\\n',\n",
              " 'B,94\\n',\n",
              " 'B,38\\n',\n",
              " 'B,84\\n',\n",
              " 'B,97\\n']"
            ]
          },
          "metadata": {},
          "execution_count": 54
        }
      ]
    },
    {
      "cell_type": "code",
      "source": [
        "path = \"/content/CM515-course-2024/modules/14_Google_Colab/\"\n",
        "\n",
        "with open(path + 'codon_table.csv', 'r') as f:\n",
        "  f_list = f.read()\n",
        "f_list"
      ],
      "metadata": {
        "colab": {
          "base_uri": "https://localhost:8080/",
          "height": 71
        },
        "id": "KOjXxImH_0dP",
        "outputId": "3a8202d0-45ab-4061-993b-ab03d5af5231"
      },
      "execution_count": null,
      "outputs": [
        {
          "output_type": "execute_result",
          "data": {
            "text/plain": [
              "'UCA,S\\nUCC,S\\nUCG,S\\nUCU,S\\nUUC,F\\nUUU,F\\nUUA,L\\nUUG,L\\nUAC,Y\\nUAU,Y\\nUAA,*\\nUAG,*\\nUGC,C\\nUGU,C\\nUGA,*\\nUGG,W\\nCUA,L\\nCUC,L\\nCUG,L\\nCUU,L\\nCCA,P\\nCCC,P\\nCCG,P\\nCCU,P\\nCAC,H\\nCAU,H\\nCAA,Q\\nCAG,Q\\nCGA,R\\nCGC,R\\nCGG,R\\nCGU,R\\nAUA,I\\nAUC,I\\nAUU,I\\nAUG,M\\nACA,T\\nACC,T\\nACG,T\\nACU,T\\nAAC,N\\nAAU,N\\nAAA,K\\nAAG,K\\nAGC,S\\nAGU,S\\nAGA,R\\nAGG,R\\nGUA,V\\nGUC,V\\nGUG,V\\nGUU,V\\nGCA,A\\nGCC,A\\nGCG,A\\nGCU,A\\nGAC,D\\nGAU,D\\nGAA,E\\nGAG,E\\nGGA,G\\nGGC,G\\nGGG,G\\nGGU,G'"
            ],
            "application/vnd.google.colaboratory.intrinsic+json": {
              "type": "string"
            }
          },
          "metadata": {},
          "execution_count": 60
        }
      ]
    },
    {
      "cell_type": "code",
      "source": [
        "f_list = f_str.split(\"\\n\")\n",
        "f_list = [x.split(\",\") for x in f_list]\n",
        "f_list"
      ],
      "metadata": {
        "colab": {
          "base_uri": "https://localhost:8080/"
        },
        "id": "R7r5AqQF_VY4",
        "outputId": "286748fa-e3be-4f9d-90cd-18fe7adf0df4"
      },
      "execution_count": null,
      "outputs": [
        {
          "output_type": "execute_result",
          "data": {
            "text/plain": [
              "[['UCA', 'S'],\n",
              " ['UCC', 'S'],\n",
              " ['UCG', 'S'],\n",
              " ['UCU', 'S'],\n",
              " ['UUC', 'F'],\n",
              " ['UUU', 'F'],\n",
              " ['UUA', 'L'],\n",
              " ['UUG', 'L'],\n",
              " ['UAC', 'Y'],\n",
              " ['UAU', 'Y'],\n",
              " ['UAA', '*'],\n",
              " ['UAG', '*'],\n",
              " ['UGC', 'C'],\n",
              " ['UGU', 'C'],\n",
              " ['UGA', '*'],\n",
              " ['UGG', 'W'],\n",
              " ['CUA', 'L'],\n",
              " ['CUC', 'L'],\n",
              " ['CUG', 'L'],\n",
              " ['CUU', 'L'],\n",
              " ['CCA', 'P'],\n",
              " ['CCC', 'P'],\n",
              " ['CCG', 'P'],\n",
              " ['CCU', 'P'],\n",
              " ['CAC', 'H'],\n",
              " ['CAU', 'H'],\n",
              " ['CAA', 'Q'],\n",
              " ['CAG', 'Q'],\n",
              " ['CGA', 'R'],\n",
              " ['CGC', 'R'],\n",
              " ['CGG', 'R'],\n",
              " ['CGU', 'R'],\n",
              " ['AUA', 'I'],\n",
              " ['AUC', 'I'],\n",
              " ['AUU', 'I'],\n",
              " ['AUG', 'M'],\n",
              " ['ACA', 'T'],\n",
              " ['ACC', 'T'],\n",
              " ['ACG', 'T'],\n",
              " ['ACU', 'T'],\n",
              " ['AAC', 'N'],\n",
              " ['AAU', 'N'],\n",
              " ['AAA', 'K'],\n",
              " ['AAG', 'K'],\n",
              " ['AGC', 'S'],\n",
              " ['AGU', 'S'],\n",
              " ['AGA', 'R'],\n",
              " ['AGG', 'R'],\n",
              " ['GUA', 'V'],\n",
              " ['GUC', 'V'],\n",
              " ['GUG', 'V'],\n",
              " ['GUU', 'V'],\n",
              " ['GCA', 'A'],\n",
              " ['GCC', 'A'],\n",
              " ['GCG', 'A'],\n",
              " ['GCU', 'A'],\n",
              " ['GAC', 'D'],\n",
              " ['GAU', 'D'],\n",
              " ['GAA', 'E'],\n",
              " ['GAG', 'E'],\n",
              " ['GGA', 'G'],\n",
              " ['GGC', 'G'],\n",
              " ['GGG', 'G'],\n",
              " ['GGU', 'G']]"
            ]
          },
          "metadata": {},
          "execution_count": 62
        }
      ]
    },
    {
      "cell_type": "code",
      "source": [
        "# Applications: Translating an amino acid\n",
        "codontab = dict(f_list)\n",
        "codontab"
      ],
      "metadata": {
        "id": "MjhVOvWRqae1",
        "colab": {
          "base_uri": "https://localhost:8080/"
        },
        "outputId": "1109c75e-19a0-4ad4-b5be-c1ba80445cce"
      },
      "execution_count": null,
      "outputs": [
        {
          "output_type": "execute_result",
          "data": {
            "text/plain": [
              "{'UCA': 'S',\n",
              " 'UCC': 'S',\n",
              " 'UCG': 'S',\n",
              " 'UCU': 'S',\n",
              " 'UUC': 'F',\n",
              " 'UUU': 'F',\n",
              " 'UUA': 'L',\n",
              " 'UUG': 'L',\n",
              " 'UAC': 'Y',\n",
              " 'UAU': 'Y',\n",
              " 'UAA': '*',\n",
              " 'UAG': '*',\n",
              " 'UGC': 'C',\n",
              " 'UGU': 'C',\n",
              " 'UGA': '*',\n",
              " 'UGG': 'W',\n",
              " 'CUA': 'L',\n",
              " 'CUC': 'L',\n",
              " 'CUG': 'L',\n",
              " 'CUU': 'L',\n",
              " 'CCA': 'P',\n",
              " 'CCC': 'P',\n",
              " 'CCG': 'P',\n",
              " 'CCU': 'P',\n",
              " 'CAC': 'H',\n",
              " 'CAU': 'H',\n",
              " 'CAA': 'Q',\n",
              " 'CAG': 'Q',\n",
              " 'CGA': 'R',\n",
              " 'CGC': 'R',\n",
              " 'CGG': 'R',\n",
              " 'CGU': 'R',\n",
              " 'AUA': 'I',\n",
              " 'AUC': 'I',\n",
              " 'AUU': 'I',\n",
              " 'AUG': 'M',\n",
              " 'ACA': 'T',\n",
              " 'ACC': 'T',\n",
              " 'ACG': 'T',\n",
              " 'ACU': 'T',\n",
              " 'AAC': 'N',\n",
              " 'AAU': 'N',\n",
              " 'AAA': 'K',\n",
              " 'AAG': 'K',\n",
              " 'AGC': 'S',\n",
              " 'AGU': 'S',\n",
              " 'AGA': 'R',\n",
              " 'AGG': 'R',\n",
              " 'GUA': 'V',\n",
              " 'GUC': 'V',\n",
              " 'GUG': 'V',\n",
              " 'GUU': 'V',\n",
              " 'GCA': 'A',\n",
              " 'GCC': 'A',\n",
              " 'GCG': 'A',\n",
              " 'GCU': 'A',\n",
              " 'GAC': 'D',\n",
              " 'GAU': 'D',\n",
              " 'GAA': 'E',\n",
              " 'GAG': 'E',\n",
              " 'GGA': 'G',\n",
              " 'GGC': 'G',\n",
              " 'GGG': 'G',\n",
              " 'GGU': 'G'}"
            ]
          },
          "metadata": {},
          "execution_count": 63
        }
      ]
    },
    {
      "cell_type": "code",
      "source": [
        "# This is the template strand for GAPDH in Mus Musculus. https://www.ncbi.nlm.nih.gov/nuccore/66364569\n",
        "with open(path + 'gapdh.fasta', 'r') as f:\n",
        "  f_str = f.readlines()\n",
        "f_str\n"
      ],
      "metadata": {
        "colab": {
          "base_uri": "https://localhost:8080/"
        },
        "id": "RubY7pm0qahZ",
        "outputId": "7dcf97e0-6270-44a1-c06a-5834a40f9b91"
      },
      "execution_count": null,
      "outputs": [
        {
          "output_type": "execute_result",
          "data": {
            "text/plain": [
              "['>mm_GAPDH_template_strand\\n',\n",
              " 'GGTGGGTGCGCGCTTTTTGTGGTTTCGGGTGGGGGGCTCCCTGGCCCCTCCTGTTTTTGGGGGTCTGGGTGGTTGTGGGGGTGCTCGTGTTGGGGGCCGGTTGGGTGGGCCTCTCTTGCTCGTGTCCTTGCTGGGGTGGGTGGTCCGGGTTTCTTCTCCTTGGGGCCTGTGGCCTGGGTCCCCCCCTGTTGCTGTGCCGTTTCTTGTCTCCGGTGGCTTGCGTTGTCTTGGGCTGCCGCCCCGGCTCGGGTGGGGTGGGGTTGCTGTTGGTCGCGGGCCCTGGTCCTCGTGTGCCCGTGCCCTTCGTGGGCCCTCGTGCCTGCTTCCCTTCTCGGCCTTGCTGTGCCGTTGTTTGCCGTGGTGGGTCTCTGGCTGTGCCTGTGTTGGGTCTGGGGGTCGTTGTGGCCTCTCCCTTTGCCCTGCTGGCGCCCTGGTGCCGGCGCCCTCGGCCTCCGTTCCCCGCCTTCCCTTTTGTCCCTCGTGCC']"
            ]
          },
          "metadata": {},
          "execution_count": 64
        }
      ]
    },
    {
      "cell_type": "code",
      "source": [
        "mRNA_Seq = f_str[1]\n",
        "mRNA_Seq = .replace(\"T\", \"U\")\n",
        "print(mRNA_Seq)"
      ],
      "metadata": {
        "id": "5KLvRTn5KsGh"
      },
      "execution_count": null,
      "outputs": []
    },
    {
      "cell_type": "code",
      "source": [
        "\n",
        "translated_seq = \"\"\n",
        "for i in range(0,99,3):\n",
        "  aa = codontab[mRNA_Seq[i:i+3]]\n",
        "  translated_seq += aa\n",
        "print(translated_seq)\n",
        "## but the protein sequence for GAPDG is:\n",
        "## MVKVGVNGFGRIGRLVTRAAICSGKVEIVAINDPFIDLNYMVYMFQYDSTHGKFNGTVKAENGKQASEGPLKGILGYTEDQVVSCDFNSNSHSSTFDAGAGIALNDNFVKLISWYDNEYGYSNRVVDLMAYMASKE\n",
        "\n"
      ],
      "metadata": {
        "colab": {
          "base_uri": "https://localhost:8080/"
        },
        "id": "-So6eW5Yqajz",
        "outputId": "adfd94b5-fc00-4c4c-a997-07aa71887296"
      },
      "execution_count": null,
      "outputs": [
        {
          "output_type": "stream",
          "name": "stdout",
          "text": [
            "GGCALFVVSGGGLPGPSCFWGSGWLWGCSCWGP\n"
          ]
        }
      ]
    },
    {
      "cell_type": "code",
      "source": [
        "\n",
        "https://rosalind.info/problems/list-view/"
      ],
      "metadata": {
        "id": "uctSv5lGEVT3"
      },
      "execution_count": null,
      "outputs": []
    },
    {
      "cell_type": "code",
      "source": [],
      "metadata": {
        "id": "XLZgY8kVPo07"
      },
      "execution_count": null,
      "outputs": []
    }
  ]
}