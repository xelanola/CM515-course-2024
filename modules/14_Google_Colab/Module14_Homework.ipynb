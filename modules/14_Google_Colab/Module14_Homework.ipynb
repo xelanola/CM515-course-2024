{
  "nbformat": 4,
  "nbformat_minor": 0,
  "metadata": {
    "colab": {
      "provenance": []
    },
    "kernelspec": {
      "name": "python3",
      "display_name": "Python 3"
    },
    "language_info": {
      "name": "python"
    }
  },
  "cells": [
    {
      "cell_type": "code",
      "execution_count": null,
      "metadata": {
        "colab": {
          "base_uri": "https://localhost:8080/"
        },
        "id": "jviYcubNtZdz",
        "outputId": "acc0bec7-b0aa-4bca-b80e-f2e78ae9d017"
      },
      "outputs": [
        {
          "output_type": "execute_result",
          "data": {
            "text/plain": [
              "[2, 4, 6, 4, 10, 12, 6, 4, 2]"
            ]
          },
          "metadata": {},
          "execution_count": 3
        }
      ],
      "source": [
        "## Homework Questions\n",
        "# 1. Convert the following code into a loop\n",
        "\n",
        "x = [1,1,2,3,2,5,6,7,8]\n",
        "\n",
        "x[8] = x[0] * 2\n",
        "x[0] = x[1] * 2\n",
        "x[1] = x[2] * 2\n",
        "x[2] = x[3] * 2\n",
        "x[3] = x[4] * 2\n",
        "x[4] = x[5] * 2\n",
        "x[5] = x[6] * 2\n",
        "x[7] = x[8] * 2\n",
        "\n",
        "x"
      ]
    },
    {
      "cell_type": "code",
      "source": [
        "# 2. load in the GAPDH template strant from the fasta provided here https://github.com/Colorado-State-University-CMB/CM515-course-2024/tree/main/modules/14_Google_Colab\n"
      ],
      "metadata": {
        "id": "UjGLWNLqt29c"
      },
      "execution_count": null,
      "outputs": []
    },
    {
      "cell_type": "code",
      "source": [
        "# 3. calculate the GC content of the strant (report as a percenatage)\n"
      ],
      "metadata": {
        "id": "rDTwXprCt3BC"
      },
      "execution_count": null,
      "outputs": []
    },
    {
      "cell_type": "code",
      "source": [
        "# 4. Create a function that takes in a dna sequence and finds the reverse compliment of it\n"
      ],
      "metadata": {
        "id": "j-3QxgN9t3Es"
      },
      "execution_count": null,
      "outputs": []
    },
    {
      "cell_type": "code",
      "source": [
        "# 5. Convert the GAPDH template strand to the coding strand\n"
      ],
      "metadata": {
        "id": "Zmgg9BzGt3IK"
      },
      "execution_count": null,
      "outputs": []
    },
    {
      "cell_type": "code",
      "source": [
        "# 6. convert to the mRNA sequence\n"
      ],
      "metadata": {
        "id": "kOCFY42Qt3K8"
      },
      "execution_count": null,
      "outputs": []
    },
    {
      "cell_type": "code",
      "source": [
        "# 7. Translate the mRNA\n",
        "# make a function that finds the start codon (AUG), then translates the protein until a stop codon is reached.\n",
        "# stop codons are denoted as \"*\" in the codon table file provided\n"
      ],
      "metadata": {
        "id": "cUEL3pVqt3PJ"
      },
      "execution_count": null,
      "outputs": []
    },
    {
      "cell_type": "code",
      "source": [
        "# 8. Go to this website, select 2 problems and complete them https://rosalind.info/problems/list-view/"
      ],
      "metadata": {
        "id": "K6jGkxf2t3Sh"
      },
      "execution_count": null,
      "outputs": []
    }
  ]
}